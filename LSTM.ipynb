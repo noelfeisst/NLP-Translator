{
  "nbformat": 4,
  "nbformat_minor": 0,
  "metadata": {
    "colab": {
      "provenance": [],
      "gpuType": "L4"
    },
    "kernelspec": {
      "name": "python3",
      "display_name": "Python 3"
    },
    "language_info": {
      "name": "python"
    },
    "widgets": {
      "application/vnd.jupyter.widget-state+json": {
        "70f52135e87f4264a49663af92da23e0": {
          "model_module": "@jupyter-widgets/controls",
          "model_name": "HBoxModel",
          "model_module_version": "1.5.0",
          "state": {
            "_dom_classes": [],
            "_model_module": "@jupyter-widgets/controls",
            "_model_module_version": "1.5.0",
            "_model_name": "HBoxModel",
            "_view_count": null,
            "_view_module": "@jupyter-widgets/controls",
            "_view_module_version": "1.5.0",
            "_view_name": "HBoxView",
            "box_style": "",
            "children": [
              "IPY_MODEL_b875220a729b438884c6354554152f47",
              "IPY_MODEL_77fa3e13e74b473596ec0b10e84a7d97",
              "IPY_MODEL_b4d552d28c0b4c51be18a33501fa4efa"
            ],
            "layout": "IPY_MODEL_54c70854855a48b1aec75f16dd231cc5"
          }
        },
        "b875220a729b438884c6354554152f47": {
          "model_module": "@jupyter-widgets/controls",
          "model_name": "HTMLModel",
          "model_module_version": "1.5.0",
          "state": {
            "_dom_classes": [],
            "_model_module": "@jupyter-widgets/controls",
            "_model_module_version": "1.5.0",
            "_model_name": "HTMLModel",
            "_view_count": null,
            "_view_module": "@jupyter-widgets/controls",
            "_view_module_version": "1.5.0",
            "_view_name": "HTMLView",
            "description": "",
            "description_tooltip": null,
            "layout": "IPY_MODEL_5df5723a956f4551bc4d5c42798752fb",
            "placeholder": "​",
            "style": "IPY_MODEL_7098cdc1a16145ed8141f2baaede8917",
            "value": "Filter: 100%"
          }
        },
        "77fa3e13e74b473596ec0b10e84a7d97": {
          "model_module": "@jupyter-widgets/controls",
          "model_name": "FloatProgressModel",
          "model_module_version": "1.5.0",
          "state": {
            "_dom_classes": [],
            "_model_module": "@jupyter-widgets/controls",
            "_model_module_version": "1.5.0",
            "_model_name": "FloatProgressModel",
            "_view_count": null,
            "_view_module": "@jupyter-widgets/controls",
            "_view_module_version": "1.5.0",
            "_view_name": "ProgressView",
            "bar_style": "success",
            "description": "",
            "description_tooltip": null,
            "layout": "IPY_MODEL_effe904b6ee9432c87ab2eadf3c52f22",
            "max": 13027,
            "min": 0,
            "orientation": "horizontal",
            "style": "IPY_MODEL_86dc0eeb0b2548ab909a7858a19dcd90",
            "value": 13027
          }
        },
        "b4d552d28c0b4c51be18a33501fa4efa": {
          "model_module": "@jupyter-widgets/controls",
          "model_name": "HTMLModel",
          "model_module_version": "1.5.0",
          "state": {
            "_dom_classes": [],
            "_model_module": "@jupyter-widgets/controls",
            "_model_module_version": "1.5.0",
            "_model_name": "HTMLModel",
            "_view_count": null,
            "_view_module": "@jupyter-widgets/controls",
            "_view_module_version": "1.5.0",
            "_view_name": "HTMLView",
            "description": "",
            "description_tooltip": null,
            "layout": "IPY_MODEL_69e5bb73275a4e7fa5a6aee1cdd30613",
            "placeholder": "​",
            "style": "IPY_MODEL_87974d3b6b9f4c818cf799dc88aee01a",
            "value": " 13027/13027 [00:00&lt;00:00, 39588.73 examples/s]"
          }
        },
        "54c70854855a48b1aec75f16dd231cc5": {
          "model_module": "@jupyter-widgets/base",
          "model_name": "LayoutModel",
          "model_module_version": "1.2.0",
          "state": {
            "_model_module": "@jupyter-widgets/base",
            "_model_module_version": "1.2.0",
            "_model_name": "LayoutModel",
            "_view_count": null,
            "_view_module": "@jupyter-widgets/base",
            "_view_module_version": "1.2.0",
            "_view_name": "LayoutView",
            "align_content": null,
            "align_items": null,
            "align_self": null,
            "border": null,
            "bottom": null,
            "display": null,
            "flex": null,
            "flex_flow": null,
            "grid_area": null,
            "grid_auto_columns": null,
            "grid_auto_flow": null,
            "grid_auto_rows": null,
            "grid_column": null,
            "grid_gap": null,
            "grid_row": null,
            "grid_template_areas": null,
            "grid_template_columns": null,
            "grid_template_rows": null,
            "height": null,
            "justify_content": null,
            "justify_items": null,
            "left": null,
            "margin": null,
            "max_height": null,
            "max_width": null,
            "min_height": null,
            "min_width": null,
            "object_fit": null,
            "object_position": null,
            "order": null,
            "overflow": null,
            "overflow_x": null,
            "overflow_y": null,
            "padding": null,
            "right": null,
            "top": null,
            "visibility": null,
            "width": null
          }
        },
        "5df5723a956f4551bc4d5c42798752fb": {
          "model_module": "@jupyter-widgets/base",
          "model_name": "LayoutModel",
          "model_module_version": "1.2.0",
          "state": {
            "_model_module": "@jupyter-widgets/base",
            "_model_module_version": "1.2.0",
            "_model_name": "LayoutModel",
            "_view_count": null,
            "_view_module": "@jupyter-widgets/base",
            "_view_module_version": "1.2.0",
            "_view_name": "LayoutView",
            "align_content": null,
            "align_items": null,
            "align_self": null,
            "border": null,
            "bottom": null,
            "display": null,
            "flex": null,
            "flex_flow": null,
            "grid_area": null,
            "grid_auto_columns": null,
            "grid_auto_flow": null,
            "grid_auto_rows": null,
            "grid_column": null,
            "grid_gap": null,
            "grid_row": null,
            "grid_template_areas": null,
            "grid_template_columns": null,
            "grid_template_rows": null,
            "height": null,
            "justify_content": null,
            "justify_items": null,
            "left": null,
            "margin": null,
            "max_height": null,
            "max_width": null,
            "min_height": null,
            "min_width": null,
            "object_fit": null,
            "object_position": null,
            "order": null,
            "overflow": null,
            "overflow_x": null,
            "overflow_y": null,
            "padding": null,
            "right": null,
            "top": null,
            "visibility": null,
            "width": null
          }
        },
        "7098cdc1a16145ed8141f2baaede8917": {
          "model_module": "@jupyter-widgets/controls",
          "model_name": "DescriptionStyleModel",
          "model_module_version": "1.5.0",
          "state": {
            "_model_module": "@jupyter-widgets/controls",
            "_model_module_version": "1.5.0",
            "_model_name": "DescriptionStyleModel",
            "_view_count": null,
            "_view_module": "@jupyter-widgets/base",
            "_view_module_version": "1.2.0",
            "_view_name": "StyleView",
            "description_width": ""
          }
        },
        "effe904b6ee9432c87ab2eadf3c52f22": {
          "model_module": "@jupyter-widgets/base",
          "model_name": "LayoutModel",
          "model_module_version": "1.2.0",
          "state": {
            "_model_module": "@jupyter-widgets/base",
            "_model_module_version": "1.2.0",
            "_model_name": "LayoutModel",
            "_view_count": null,
            "_view_module": "@jupyter-widgets/base",
            "_view_module_version": "1.2.0",
            "_view_name": "LayoutView",
            "align_content": null,
            "align_items": null,
            "align_self": null,
            "border": null,
            "bottom": null,
            "display": null,
            "flex": null,
            "flex_flow": null,
            "grid_area": null,
            "grid_auto_columns": null,
            "grid_auto_flow": null,
            "grid_auto_rows": null,
            "grid_column": null,
            "grid_gap": null,
            "grid_row": null,
            "grid_template_areas": null,
            "grid_template_columns": null,
            "grid_template_rows": null,
            "height": null,
            "justify_content": null,
            "justify_items": null,
            "left": null,
            "margin": null,
            "max_height": null,
            "max_width": null,
            "min_height": null,
            "min_width": null,
            "object_fit": null,
            "object_position": null,
            "order": null,
            "overflow": null,
            "overflow_x": null,
            "overflow_y": null,
            "padding": null,
            "right": null,
            "top": null,
            "visibility": null,
            "width": null
          }
        },
        "86dc0eeb0b2548ab909a7858a19dcd90": {
          "model_module": "@jupyter-widgets/controls",
          "model_name": "ProgressStyleModel",
          "model_module_version": "1.5.0",
          "state": {
            "_model_module": "@jupyter-widgets/controls",
            "_model_module_version": "1.5.0",
            "_model_name": "ProgressStyleModel",
            "_view_count": null,
            "_view_module": "@jupyter-widgets/base",
            "_view_module_version": "1.2.0",
            "_view_name": "StyleView",
            "bar_color": null,
            "description_width": ""
          }
        },
        "69e5bb73275a4e7fa5a6aee1cdd30613": {
          "model_module": "@jupyter-widgets/base",
          "model_name": "LayoutModel",
          "model_module_version": "1.2.0",
          "state": {
            "_model_module": "@jupyter-widgets/base",
            "_model_module_version": "1.2.0",
            "_model_name": "LayoutModel",
            "_view_count": null,
            "_view_module": "@jupyter-widgets/base",
            "_view_module_version": "1.2.0",
            "_view_name": "LayoutView",
            "align_content": null,
            "align_items": null,
            "align_self": null,
            "border": null,
            "bottom": null,
            "display": null,
            "flex": null,
            "flex_flow": null,
            "grid_area": null,
            "grid_auto_columns": null,
            "grid_auto_flow": null,
            "grid_auto_rows": null,
            "grid_column": null,
            "grid_gap": null,
            "grid_row": null,
            "grid_template_areas": null,
            "grid_template_columns": null,
            "grid_template_rows": null,
            "height": null,
            "justify_content": null,
            "justify_items": null,
            "left": null,
            "margin": null,
            "max_height": null,
            "max_width": null,
            "min_height": null,
            "min_width": null,
            "object_fit": null,
            "object_position": null,
            "order": null,
            "overflow": null,
            "overflow_x": null,
            "overflow_y": null,
            "padding": null,
            "right": null,
            "top": null,
            "visibility": null,
            "width": null
          }
        },
        "87974d3b6b9f4c818cf799dc88aee01a": {
          "model_module": "@jupyter-widgets/controls",
          "model_name": "DescriptionStyleModel",
          "model_module_version": "1.5.0",
          "state": {
            "_model_module": "@jupyter-widgets/controls",
            "_model_module_version": "1.5.0",
            "_model_name": "DescriptionStyleModel",
            "_view_count": null,
            "_view_module": "@jupyter-widgets/base",
            "_view_module_version": "1.2.0",
            "_view_name": "StyleView",
            "description_width": ""
          }
        },
        "bdc9a44305ea49ed83199d60f7c33274": {
          "model_module": "@jupyter-widgets/controls",
          "model_name": "HBoxModel",
          "model_module_version": "1.5.0",
          "state": {
            "_dom_classes": [],
            "_model_module": "@jupyter-widgets/controls",
            "_model_module_version": "1.5.0",
            "_model_name": "HBoxModel",
            "_view_count": null,
            "_view_module": "@jupyter-widgets/controls",
            "_view_module_version": "1.5.0",
            "_view_name": "HBoxView",
            "box_style": "",
            "children": [
              "IPY_MODEL_1c57b32d2aa64c8baf0dfe9cb3ce2cb8",
              "IPY_MODEL_330bd52a3c3340d09cd4c0c9b7e5d5fb",
              "IPY_MODEL_6f02c0403de74f4894ffac48eae90cab"
            ],
            "layout": "IPY_MODEL_4b57bd1c868345ab86877104144afe15"
          }
        },
        "1c57b32d2aa64c8baf0dfe9cb3ce2cb8": {
          "model_module": "@jupyter-widgets/controls",
          "model_name": "HTMLModel",
          "model_module_version": "1.5.0",
          "state": {
            "_dom_classes": [],
            "_model_module": "@jupyter-widgets/controls",
            "_model_module_version": "1.5.0",
            "_model_name": "HTMLModel",
            "_view_count": null,
            "_view_module": "@jupyter-widgets/controls",
            "_view_module_version": "1.5.0",
            "_view_name": "HTMLView",
            "description": "",
            "description_tooltip": null,
            "layout": "IPY_MODEL_1432a3b6e8c54ccf9de9493c960a559f",
            "placeholder": "​",
            "style": "IPY_MODEL_6841834ecdd749028d3ce7dec357cf5a",
            "value": "Filter: 100%"
          }
        },
        "330bd52a3c3340d09cd4c0c9b7e5d5fb": {
          "model_module": "@jupyter-widgets/controls",
          "model_name": "FloatProgressModel",
          "model_module_version": "1.5.0",
          "state": {
            "_dom_classes": [],
            "_model_module": "@jupyter-widgets/controls",
            "_model_module_version": "1.5.0",
            "_model_name": "FloatProgressModel",
            "_view_count": null,
            "_view_module": "@jupyter-widgets/controls",
            "_view_module_version": "1.5.0",
            "_view_name": "ProgressView",
            "bar_style": "success",
            "description": "",
            "description_tooltip": null,
            "layout": "IPY_MODEL_95ea43b9b6a54e61add3123da915db19",
            "max": 13027,
            "min": 0,
            "orientation": "horizontal",
            "style": "IPY_MODEL_663fcc499fd443d69a857cc70a70ee70",
            "value": 13027
          }
        },
        "6f02c0403de74f4894ffac48eae90cab": {
          "model_module": "@jupyter-widgets/controls",
          "model_name": "HTMLModel",
          "model_module_version": "1.5.0",
          "state": {
            "_dom_classes": [],
            "_model_module": "@jupyter-widgets/controls",
            "_model_module_version": "1.5.0",
            "_model_name": "HTMLModel",
            "_view_count": null,
            "_view_module": "@jupyter-widgets/controls",
            "_view_module_version": "1.5.0",
            "_view_name": "HTMLView",
            "description": "",
            "description_tooltip": null,
            "layout": "IPY_MODEL_946a324f0cf04fb28c93cbd7635c7538",
            "placeholder": "​",
            "style": "IPY_MODEL_5a0aed66cd064bcba277ca351aed216e",
            "value": " 13027/13027 [00:00&lt;00:00, 41750.24 examples/s]"
          }
        },
        "4b57bd1c868345ab86877104144afe15": {
          "model_module": "@jupyter-widgets/base",
          "model_name": "LayoutModel",
          "model_module_version": "1.2.0",
          "state": {
            "_model_module": "@jupyter-widgets/base",
            "_model_module_version": "1.2.0",
            "_model_name": "LayoutModel",
            "_view_count": null,
            "_view_module": "@jupyter-widgets/base",
            "_view_module_version": "1.2.0",
            "_view_name": "LayoutView",
            "align_content": null,
            "align_items": null,
            "align_self": null,
            "border": null,
            "bottom": null,
            "display": null,
            "flex": null,
            "flex_flow": null,
            "grid_area": null,
            "grid_auto_columns": null,
            "grid_auto_flow": null,
            "grid_auto_rows": null,
            "grid_column": null,
            "grid_gap": null,
            "grid_row": null,
            "grid_template_areas": null,
            "grid_template_columns": null,
            "grid_template_rows": null,
            "height": null,
            "justify_content": null,
            "justify_items": null,
            "left": null,
            "margin": null,
            "max_height": null,
            "max_width": null,
            "min_height": null,
            "min_width": null,
            "object_fit": null,
            "object_position": null,
            "order": null,
            "overflow": null,
            "overflow_x": null,
            "overflow_y": null,
            "padding": null,
            "right": null,
            "top": null,
            "visibility": null,
            "width": null
          }
        },
        "1432a3b6e8c54ccf9de9493c960a559f": {
          "model_module": "@jupyter-widgets/base",
          "model_name": "LayoutModel",
          "model_module_version": "1.2.0",
          "state": {
            "_model_module": "@jupyter-widgets/base",
            "_model_module_version": "1.2.0",
            "_model_name": "LayoutModel",
            "_view_count": null,
            "_view_module": "@jupyter-widgets/base",
            "_view_module_version": "1.2.0",
            "_view_name": "LayoutView",
            "align_content": null,
            "align_items": null,
            "align_self": null,
            "border": null,
            "bottom": null,
            "display": null,
            "flex": null,
            "flex_flow": null,
            "grid_area": null,
            "grid_auto_columns": null,
            "grid_auto_flow": null,
            "grid_auto_rows": null,
            "grid_column": null,
            "grid_gap": null,
            "grid_row": null,
            "grid_template_areas": null,
            "grid_template_columns": null,
            "grid_template_rows": null,
            "height": null,
            "justify_content": null,
            "justify_items": null,
            "left": null,
            "margin": null,
            "max_height": null,
            "max_width": null,
            "min_height": null,
            "min_width": null,
            "object_fit": null,
            "object_position": null,
            "order": null,
            "overflow": null,
            "overflow_x": null,
            "overflow_y": null,
            "padding": null,
            "right": null,
            "top": null,
            "visibility": null,
            "width": null
          }
        },
        "6841834ecdd749028d3ce7dec357cf5a": {
          "model_module": "@jupyter-widgets/controls",
          "model_name": "DescriptionStyleModel",
          "model_module_version": "1.5.0",
          "state": {
            "_model_module": "@jupyter-widgets/controls",
            "_model_module_version": "1.5.0",
            "_model_name": "DescriptionStyleModel",
            "_view_count": null,
            "_view_module": "@jupyter-widgets/base",
            "_view_module_version": "1.2.0",
            "_view_name": "StyleView",
            "description_width": ""
          }
        },
        "95ea43b9b6a54e61add3123da915db19": {
          "model_module": "@jupyter-widgets/base",
          "model_name": "LayoutModel",
          "model_module_version": "1.2.0",
          "state": {
            "_model_module": "@jupyter-widgets/base",
            "_model_module_version": "1.2.0",
            "_model_name": "LayoutModel",
            "_view_count": null,
            "_view_module": "@jupyter-widgets/base",
            "_view_module_version": "1.2.0",
            "_view_name": "LayoutView",
            "align_content": null,
            "align_items": null,
            "align_self": null,
            "border": null,
            "bottom": null,
            "display": null,
            "flex": null,
            "flex_flow": null,
            "grid_area": null,
            "grid_auto_columns": null,
            "grid_auto_flow": null,
            "grid_auto_rows": null,
            "grid_column": null,
            "grid_gap": null,
            "grid_row": null,
            "grid_template_areas": null,
            "grid_template_columns": null,
            "grid_template_rows": null,
            "height": null,
            "justify_content": null,
            "justify_items": null,
            "left": null,
            "margin": null,
            "max_height": null,
            "max_width": null,
            "min_height": null,
            "min_width": null,
            "object_fit": null,
            "object_position": null,
            "order": null,
            "overflow": null,
            "overflow_x": null,
            "overflow_y": null,
            "padding": null,
            "right": null,
            "top": null,
            "visibility": null,
            "width": null
          }
        },
        "663fcc499fd443d69a857cc70a70ee70": {
          "model_module": "@jupyter-widgets/controls",
          "model_name": "ProgressStyleModel",
          "model_module_version": "1.5.0",
          "state": {
            "_model_module": "@jupyter-widgets/controls",
            "_model_module_version": "1.5.0",
            "_model_name": "ProgressStyleModel",
            "_view_count": null,
            "_view_module": "@jupyter-widgets/base",
            "_view_module_version": "1.2.0",
            "_view_name": "StyleView",
            "bar_color": null,
            "description_width": ""
          }
        },
        "946a324f0cf04fb28c93cbd7635c7538": {
          "model_module": "@jupyter-widgets/base",
          "model_name": "LayoutModel",
          "model_module_version": "1.2.0",
          "state": {
            "_model_module": "@jupyter-widgets/base",
            "_model_module_version": "1.2.0",
            "_model_name": "LayoutModel",
            "_view_count": null,
            "_view_module": "@jupyter-widgets/base",
            "_view_module_version": "1.2.0",
            "_view_name": "LayoutView",
            "align_content": null,
            "align_items": null,
            "align_self": null,
            "border": null,
            "bottom": null,
            "display": null,
            "flex": null,
            "flex_flow": null,
            "grid_area": null,
            "grid_auto_columns": null,
            "grid_auto_flow": null,
            "grid_auto_rows": null,
            "grid_column": null,
            "grid_gap": null,
            "grid_row": null,
            "grid_template_areas": null,
            "grid_template_columns": null,
            "grid_template_rows": null,
            "height": null,
            "justify_content": null,
            "justify_items": null,
            "left": null,
            "margin": null,
            "max_height": null,
            "max_width": null,
            "min_height": null,
            "min_width": null,
            "object_fit": null,
            "object_position": null,
            "order": null,
            "overflow": null,
            "overflow_x": null,
            "overflow_y": null,
            "padding": null,
            "right": null,
            "top": null,
            "visibility": null,
            "width": null
          }
        },
        "5a0aed66cd064bcba277ca351aed216e": {
          "model_module": "@jupyter-widgets/controls",
          "model_name": "DescriptionStyleModel",
          "model_module_version": "1.5.0",
          "state": {
            "_model_module": "@jupyter-widgets/controls",
            "_model_module_version": "1.5.0",
            "_model_name": "DescriptionStyleModel",
            "_view_count": null,
            "_view_module": "@jupyter-widgets/base",
            "_view_module_version": "1.2.0",
            "_view_name": "StyleView",
            "description_width": ""
          }
        },
        "4b8c0678250a4d2c8fa697c509bc3e70": {
          "model_module": "@jupyter-widgets/controls",
          "model_name": "HBoxModel",
          "model_module_version": "1.5.0",
          "state": {
            "_dom_classes": [],
            "_model_module": "@jupyter-widgets/controls",
            "_model_module_version": "1.5.0",
            "_model_name": "HBoxModel",
            "_view_count": null,
            "_view_module": "@jupyter-widgets/controls",
            "_view_module_version": "1.5.0",
            "_view_name": "HBoxView",
            "box_style": "",
            "children": [
              "IPY_MODEL_033dd6b305064550a5c9ef9d2aadc029",
              "IPY_MODEL_26b0fb4771e84e84a302f2a323374fdb",
              "IPY_MODEL_bdddd2d53d794e36b7ff8bea4a32d6ac"
            ],
            "layout": "IPY_MODEL_9eaef89c1f5346dcab0105170d0cb9ef"
          }
        },
        "033dd6b305064550a5c9ef9d2aadc029": {
          "model_module": "@jupyter-widgets/controls",
          "model_name": "HTMLModel",
          "model_module_version": "1.5.0",
          "state": {
            "_dom_classes": [],
            "_model_module": "@jupyter-widgets/controls",
            "_model_module_version": "1.5.0",
            "_model_name": "HTMLModel",
            "_view_count": null,
            "_view_module": "@jupyter-widgets/controls",
            "_view_module_version": "1.5.0",
            "_view_name": "HTMLView",
            "description": "",
            "description_tooltip": null,
            "layout": "IPY_MODEL_d00bbef6ed4145648b05b0418def4add",
            "placeholder": "​",
            "style": "IPY_MODEL_00ed4175f38742ee8657f4dbd0b0967b",
            "value": "Filter: 100%"
          }
        },
        "26b0fb4771e84e84a302f2a323374fdb": {
          "model_module": "@jupyter-widgets/controls",
          "model_name": "FloatProgressModel",
          "model_module_version": "1.5.0",
          "state": {
            "_dom_classes": [],
            "_model_module": "@jupyter-widgets/controls",
            "_model_module_version": "1.5.0",
            "_model_name": "FloatProgressModel",
            "_view_count": null,
            "_view_module": "@jupyter-widgets/controls",
            "_view_module_version": "1.5.0",
            "_view_name": "ProgressView",
            "bar_style": "success",
            "description": "",
            "description_tooltip": null,
            "layout": "IPY_MODEL_272e7162c95e489bb5a3cca51297b511",
            "max": 13027,
            "min": 0,
            "orientation": "horizontal",
            "style": "IPY_MODEL_c9543dcbc3f3427f81eb9ccb4dd21a18",
            "value": 13027
          }
        },
        "bdddd2d53d794e36b7ff8bea4a32d6ac": {
          "model_module": "@jupyter-widgets/controls",
          "model_name": "HTMLModel",
          "model_module_version": "1.5.0",
          "state": {
            "_dom_classes": [],
            "_model_module": "@jupyter-widgets/controls",
            "_model_module_version": "1.5.0",
            "_model_name": "HTMLModel",
            "_view_count": null,
            "_view_module": "@jupyter-widgets/controls",
            "_view_module_version": "1.5.0",
            "_view_name": "HTMLView",
            "description": "",
            "description_tooltip": null,
            "layout": "IPY_MODEL_5d14d42461ed407880b513d3b22538d1",
            "placeholder": "​",
            "style": "IPY_MODEL_dd967418f33540789ca236d079fdaa8a",
            "value": " 13027/13027 [00:00&lt;00:00, 42691.77 examples/s]"
          }
        },
        "9eaef89c1f5346dcab0105170d0cb9ef": {
          "model_module": "@jupyter-widgets/base",
          "model_name": "LayoutModel",
          "model_module_version": "1.2.0",
          "state": {
            "_model_module": "@jupyter-widgets/base",
            "_model_module_version": "1.2.0",
            "_model_name": "LayoutModel",
            "_view_count": null,
            "_view_module": "@jupyter-widgets/base",
            "_view_module_version": "1.2.0",
            "_view_name": "LayoutView",
            "align_content": null,
            "align_items": null,
            "align_self": null,
            "border": null,
            "bottom": null,
            "display": null,
            "flex": null,
            "flex_flow": null,
            "grid_area": null,
            "grid_auto_columns": null,
            "grid_auto_flow": null,
            "grid_auto_rows": null,
            "grid_column": null,
            "grid_gap": null,
            "grid_row": null,
            "grid_template_areas": null,
            "grid_template_columns": null,
            "grid_template_rows": null,
            "height": null,
            "justify_content": null,
            "justify_items": null,
            "left": null,
            "margin": null,
            "max_height": null,
            "max_width": null,
            "min_height": null,
            "min_width": null,
            "object_fit": null,
            "object_position": null,
            "order": null,
            "overflow": null,
            "overflow_x": null,
            "overflow_y": null,
            "padding": null,
            "right": null,
            "top": null,
            "visibility": null,
            "width": null
          }
        },
        "d00bbef6ed4145648b05b0418def4add": {
          "model_module": "@jupyter-widgets/base",
          "model_name": "LayoutModel",
          "model_module_version": "1.2.0",
          "state": {
            "_model_module": "@jupyter-widgets/base",
            "_model_module_version": "1.2.0",
            "_model_name": "LayoutModel",
            "_view_count": null,
            "_view_module": "@jupyter-widgets/base",
            "_view_module_version": "1.2.0",
            "_view_name": "LayoutView",
            "align_content": null,
            "align_items": null,
            "align_self": null,
            "border": null,
            "bottom": null,
            "display": null,
            "flex": null,
            "flex_flow": null,
            "grid_area": null,
            "grid_auto_columns": null,
            "grid_auto_flow": null,
            "grid_auto_rows": null,
            "grid_column": null,
            "grid_gap": null,
            "grid_row": null,
            "grid_template_areas": null,
            "grid_template_columns": null,
            "grid_template_rows": null,
            "height": null,
            "justify_content": null,
            "justify_items": null,
            "left": null,
            "margin": null,
            "max_height": null,
            "max_width": null,
            "min_height": null,
            "min_width": null,
            "object_fit": null,
            "object_position": null,
            "order": null,
            "overflow": null,
            "overflow_x": null,
            "overflow_y": null,
            "padding": null,
            "right": null,
            "top": null,
            "visibility": null,
            "width": null
          }
        },
        "00ed4175f38742ee8657f4dbd0b0967b": {
          "model_module": "@jupyter-widgets/controls",
          "model_name": "DescriptionStyleModel",
          "model_module_version": "1.5.0",
          "state": {
            "_model_module": "@jupyter-widgets/controls",
            "_model_module_version": "1.5.0",
            "_model_name": "DescriptionStyleModel",
            "_view_count": null,
            "_view_module": "@jupyter-widgets/base",
            "_view_module_version": "1.2.0",
            "_view_name": "StyleView",
            "description_width": ""
          }
        },
        "272e7162c95e489bb5a3cca51297b511": {
          "model_module": "@jupyter-widgets/base",
          "model_name": "LayoutModel",
          "model_module_version": "1.2.0",
          "state": {
            "_model_module": "@jupyter-widgets/base",
            "_model_module_version": "1.2.0",
            "_model_name": "LayoutModel",
            "_view_count": null,
            "_view_module": "@jupyter-widgets/base",
            "_view_module_version": "1.2.0",
            "_view_name": "LayoutView",
            "align_content": null,
            "align_items": null,
            "align_self": null,
            "border": null,
            "bottom": null,
            "display": null,
            "flex": null,
            "flex_flow": null,
            "grid_area": null,
            "grid_auto_columns": null,
            "grid_auto_flow": null,
            "grid_auto_rows": null,
            "grid_column": null,
            "grid_gap": null,
            "grid_row": null,
            "grid_template_areas": null,
            "grid_template_columns": null,
            "grid_template_rows": null,
            "height": null,
            "justify_content": null,
            "justify_items": null,
            "left": null,
            "margin": null,
            "max_height": null,
            "max_width": null,
            "min_height": null,
            "min_width": null,
            "object_fit": null,
            "object_position": null,
            "order": null,
            "overflow": null,
            "overflow_x": null,
            "overflow_y": null,
            "padding": null,
            "right": null,
            "top": null,
            "visibility": null,
            "width": null
          }
        },
        "c9543dcbc3f3427f81eb9ccb4dd21a18": {
          "model_module": "@jupyter-widgets/controls",
          "model_name": "ProgressStyleModel",
          "model_module_version": "1.5.0",
          "state": {
            "_model_module": "@jupyter-widgets/controls",
            "_model_module_version": "1.5.0",
            "_model_name": "ProgressStyleModel",
            "_view_count": null,
            "_view_module": "@jupyter-widgets/base",
            "_view_module_version": "1.2.0",
            "_view_name": "StyleView",
            "bar_color": null,
            "description_width": ""
          }
        },
        "5d14d42461ed407880b513d3b22538d1": {
          "model_module": "@jupyter-widgets/base",
          "model_name": "LayoutModel",
          "model_module_version": "1.2.0",
          "state": {
            "_model_module": "@jupyter-widgets/base",
            "_model_module_version": "1.2.0",
            "_model_name": "LayoutModel",
            "_view_count": null,
            "_view_module": "@jupyter-widgets/base",
            "_view_module_version": "1.2.0",
            "_view_name": "LayoutView",
            "align_content": null,
            "align_items": null,
            "align_self": null,
            "border": null,
            "bottom": null,
            "display": null,
            "flex": null,
            "flex_flow": null,
            "grid_area": null,
            "grid_auto_columns": null,
            "grid_auto_flow": null,
            "grid_auto_rows": null,
            "grid_column": null,
            "grid_gap": null,
            "grid_row": null,
            "grid_template_areas": null,
            "grid_template_columns": null,
            "grid_template_rows": null,
            "height": null,
            "justify_content": null,
            "justify_items": null,
            "left": null,
            "margin": null,
            "max_height": null,
            "max_width": null,
            "min_height": null,
            "min_width": null,
            "object_fit": null,
            "object_position": null,
            "order": null,
            "overflow": null,
            "overflow_x": null,
            "overflow_y": null,
            "padding": null,
            "right": null,
            "top": null,
            "visibility": null,
            "width": null
          }
        },
        "dd967418f33540789ca236d079fdaa8a": {
          "model_module": "@jupyter-widgets/controls",
          "model_name": "DescriptionStyleModel",
          "model_module_version": "1.5.0",
          "state": {
            "_model_module": "@jupyter-widgets/controls",
            "_model_module_version": "1.5.0",
            "_model_name": "DescriptionStyleModel",
            "_view_count": null,
            "_view_module": "@jupyter-widgets/base",
            "_view_module_version": "1.2.0",
            "_view_name": "StyleView",
            "description_width": ""
          }
        },
        "a21394b193d84979ab70dd1742fcc43b": {
          "model_module": "@jupyter-widgets/controls",
          "model_name": "HBoxModel",
          "model_module_version": "1.5.0",
          "state": {
            "_dom_classes": [],
            "_model_module": "@jupyter-widgets/controls",
            "_model_module_version": "1.5.0",
            "_model_name": "HBoxModel",
            "_view_count": null,
            "_view_module": "@jupyter-widgets/controls",
            "_view_module_version": "1.5.0",
            "_view_name": "HBoxView",
            "box_style": "",
            "children": [
              "IPY_MODEL_b317a1804cf74c5281de1bea44b68ec4",
              "IPY_MODEL_0f19143f1ac748f98db99dba0337d21f",
              "IPY_MODEL_9a2ec1d72a1349c6994c0d390d68858d"
            ],
            "layout": "IPY_MODEL_50df679daf024a1798fd0b7106c2100c"
          }
        },
        "b317a1804cf74c5281de1bea44b68ec4": {
          "model_module": "@jupyter-widgets/controls",
          "model_name": "HTMLModel",
          "model_module_version": "1.5.0",
          "state": {
            "_dom_classes": [],
            "_model_module": "@jupyter-widgets/controls",
            "_model_module_version": "1.5.0",
            "_model_name": "HTMLModel",
            "_view_count": null,
            "_view_module": "@jupyter-widgets/controls",
            "_view_module_version": "1.5.0",
            "_view_name": "HTMLView",
            "description": "",
            "description_tooltip": null,
            "layout": "IPY_MODEL_6b52950a65dc4fabbff81b71ba7994e4",
            "placeholder": "​",
            "style": "IPY_MODEL_15efd8b01006478e961688a98f1a724d",
            "value": "Filter: 100%"
          }
        },
        "0f19143f1ac748f98db99dba0337d21f": {
          "model_module": "@jupyter-widgets/controls",
          "model_name": "FloatProgressModel",
          "model_module_version": "1.5.0",
          "state": {
            "_dom_classes": [],
            "_model_module": "@jupyter-widgets/controls",
            "_model_module_version": "1.5.0",
            "_model_name": "FloatProgressModel",
            "_view_count": null,
            "_view_module": "@jupyter-widgets/controls",
            "_view_module_version": "1.5.0",
            "_view_name": "ProgressView",
            "bar_style": "success",
            "description": "",
            "description_tooltip": null,
            "layout": "IPY_MODEL_02c935d090eb4d9ab267d230bb590866",
            "max": 2299,
            "min": 0,
            "orientation": "horizontal",
            "style": "IPY_MODEL_a5d38f1fb4504a3fbc616df986390e35",
            "value": 2299
          }
        },
        "9a2ec1d72a1349c6994c0d390d68858d": {
          "model_module": "@jupyter-widgets/controls",
          "model_name": "HTMLModel",
          "model_module_version": "1.5.0",
          "state": {
            "_dom_classes": [],
            "_model_module": "@jupyter-widgets/controls",
            "_model_module_version": "1.5.0",
            "_model_name": "HTMLModel",
            "_view_count": null,
            "_view_module": "@jupyter-widgets/controls",
            "_view_module_version": "1.5.0",
            "_view_name": "HTMLView",
            "description": "",
            "description_tooltip": null,
            "layout": "IPY_MODEL_85495edefeb2487e8872680c1d9166f0",
            "placeholder": "​",
            "style": "IPY_MODEL_5de8b0387d9d4dd3b33aea88c1e0cd8a",
            "value": " 2299/2299 [00:00&lt;00:00, 35152.45 examples/s]"
          }
        },
        "50df679daf024a1798fd0b7106c2100c": {
          "model_module": "@jupyter-widgets/base",
          "model_name": "LayoutModel",
          "model_module_version": "1.2.0",
          "state": {
            "_model_module": "@jupyter-widgets/base",
            "_model_module_version": "1.2.0",
            "_model_name": "LayoutModel",
            "_view_count": null,
            "_view_module": "@jupyter-widgets/base",
            "_view_module_version": "1.2.0",
            "_view_name": "LayoutView",
            "align_content": null,
            "align_items": null,
            "align_self": null,
            "border": null,
            "bottom": null,
            "display": null,
            "flex": null,
            "flex_flow": null,
            "grid_area": null,
            "grid_auto_columns": null,
            "grid_auto_flow": null,
            "grid_auto_rows": null,
            "grid_column": null,
            "grid_gap": null,
            "grid_row": null,
            "grid_template_areas": null,
            "grid_template_columns": null,
            "grid_template_rows": null,
            "height": null,
            "justify_content": null,
            "justify_items": null,
            "left": null,
            "margin": null,
            "max_height": null,
            "max_width": null,
            "min_height": null,
            "min_width": null,
            "object_fit": null,
            "object_position": null,
            "order": null,
            "overflow": null,
            "overflow_x": null,
            "overflow_y": null,
            "padding": null,
            "right": null,
            "top": null,
            "visibility": null,
            "width": null
          }
        },
        "6b52950a65dc4fabbff81b71ba7994e4": {
          "model_module": "@jupyter-widgets/base",
          "model_name": "LayoutModel",
          "model_module_version": "1.2.0",
          "state": {
            "_model_module": "@jupyter-widgets/base",
            "_model_module_version": "1.2.0",
            "_model_name": "LayoutModel",
            "_view_count": null,
            "_view_module": "@jupyter-widgets/base",
            "_view_module_version": "1.2.0",
            "_view_name": "LayoutView",
            "align_content": null,
            "align_items": null,
            "align_self": null,
            "border": null,
            "bottom": null,
            "display": null,
            "flex": null,
            "flex_flow": null,
            "grid_area": null,
            "grid_auto_columns": null,
            "grid_auto_flow": null,
            "grid_auto_rows": null,
            "grid_column": null,
            "grid_gap": null,
            "grid_row": null,
            "grid_template_areas": null,
            "grid_template_columns": null,
            "grid_template_rows": null,
            "height": null,
            "justify_content": null,
            "justify_items": null,
            "left": null,
            "margin": null,
            "max_height": null,
            "max_width": null,
            "min_height": null,
            "min_width": null,
            "object_fit": null,
            "object_position": null,
            "order": null,
            "overflow": null,
            "overflow_x": null,
            "overflow_y": null,
            "padding": null,
            "right": null,
            "top": null,
            "visibility": null,
            "width": null
          }
        },
        "15efd8b01006478e961688a98f1a724d": {
          "model_module": "@jupyter-widgets/controls",
          "model_name": "DescriptionStyleModel",
          "model_module_version": "1.5.0",
          "state": {
            "_model_module": "@jupyter-widgets/controls",
            "_model_module_version": "1.5.0",
            "_model_name": "DescriptionStyleModel",
            "_view_count": null,
            "_view_module": "@jupyter-widgets/base",
            "_view_module_version": "1.2.0",
            "_view_name": "StyleView",
            "description_width": ""
          }
        },
        "02c935d090eb4d9ab267d230bb590866": {
          "model_module": "@jupyter-widgets/base",
          "model_name": "LayoutModel",
          "model_module_version": "1.2.0",
          "state": {
            "_model_module": "@jupyter-widgets/base",
            "_model_module_version": "1.2.0",
            "_model_name": "LayoutModel",
            "_view_count": null,
            "_view_module": "@jupyter-widgets/base",
            "_view_module_version": "1.2.0",
            "_view_name": "LayoutView",
            "align_content": null,
            "align_items": null,
            "align_self": null,
            "border": null,
            "bottom": null,
            "display": null,
            "flex": null,
            "flex_flow": null,
            "grid_area": null,
            "grid_auto_columns": null,
            "grid_auto_flow": null,
            "grid_auto_rows": null,
            "grid_column": null,
            "grid_gap": null,
            "grid_row": null,
            "grid_template_areas": null,
            "grid_template_columns": null,
            "grid_template_rows": null,
            "height": null,
            "justify_content": null,
            "justify_items": null,
            "left": null,
            "margin": null,
            "max_height": null,
            "max_width": null,
            "min_height": null,
            "min_width": null,
            "object_fit": null,
            "object_position": null,
            "order": null,
            "overflow": null,
            "overflow_x": null,
            "overflow_y": null,
            "padding": null,
            "right": null,
            "top": null,
            "visibility": null,
            "width": null
          }
        },
        "a5d38f1fb4504a3fbc616df986390e35": {
          "model_module": "@jupyter-widgets/controls",
          "model_name": "ProgressStyleModel",
          "model_module_version": "1.5.0",
          "state": {
            "_model_module": "@jupyter-widgets/controls",
            "_model_module_version": "1.5.0",
            "_model_name": "ProgressStyleModel",
            "_view_count": null,
            "_view_module": "@jupyter-widgets/base",
            "_view_module_version": "1.2.0",
            "_view_name": "StyleView",
            "bar_color": null,
            "description_width": ""
          }
        },
        "85495edefeb2487e8872680c1d9166f0": {
          "model_module": "@jupyter-widgets/base",
          "model_name": "LayoutModel",
          "model_module_version": "1.2.0",
          "state": {
            "_model_module": "@jupyter-widgets/base",
            "_model_module_version": "1.2.0",
            "_model_name": "LayoutModel",
            "_view_count": null,
            "_view_module": "@jupyter-widgets/base",
            "_view_module_version": "1.2.0",
            "_view_name": "LayoutView",
            "align_content": null,
            "align_items": null,
            "align_self": null,
            "border": null,
            "bottom": null,
            "display": null,
            "flex": null,
            "flex_flow": null,
            "grid_area": null,
            "grid_auto_columns": null,
            "grid_auto_flow": null,
            "grid_auto_rows": null,
            "grid_column": null,
            "grid_gap": null,
            "grid_row": null,
            "grid_template_areas": null,
            "grid_template_columns": null,
            "grid_template_rows": null,
            "height": null,
            "justify_content": null,
            "justify_items": null,
            "left": null,
            "margin": null,
            "max_height": null,
            "max_width": null,
            "min_height": null,
            "min_width": null,
            "object_fit": null,
            "object_position": null,
            "order": null,
            "overflow": null,
            "overflow_x": null,
            "overflow_y": null,
            "padding": null,
            "right": null,
            "top": null,
            "visibility": null,
            "width": null
          }
        },
        "5de8b0387d9d4dd3b33aea88c1e0cd8a": {
          "model_module": "@jupyter-widgets/controls",
          "model_name": "DescriptionStyleModel",
          "model_module_version": "1.5.0",
          "state": {
            "_model_module": "@jupyter-widgets/controls",
            "_model_module_version": "1.5.0",
            "_model_name": "DescriptionStyleModel",
            "_view_count": null,
            "_view_module": "@jupyter-widgets/base",
            "_view_module_version": "1.2.0",
            "_view_name": "StyleView",
            "description_width": ""
          }
        },
        "faad678ebeed4efcbfce6c4ebdcbc9d1": {
          "model_module": "@jupyter-widgets/controls",
          "model_name": "HBoxModel",
          "model_module_version": "1.5.0",
          "state": {
            "_dom_classes": [],
            "_model_module": "@jupyter-widgets/controls",
            "_model_module_version": "1.5.0",
            "_model_name": "HBoxModel",
            "_view_count": null,
            "_view_module": "@jupyter-widgets/controls",
            "_view_module_version": "1.5.0",
            "_view_name": "HBoxView",
            "box_style": "",
            "children": [
              "IPY_MODEL_8283c48001fb4ffbae1123658661f4a1",
              "IPY_MODEL_7d5156827b694587807236f26e874ba4",
              "IPY_MODEL_eba9923540d74a7a836c7cc86002542f"
            ],
            "layout": "IPY_MODEL_6d3664bff36f4a5aa91383eb2fc8cd63"
          }
        },
        "8283c48001fb4ffbae1123658661f4a1": {
          "model_module": "@jupyter-widgets/controls",
          "model_name": "HTMLModel",
          "model_module_version": "1.5.0",
          "state": {
            "_dom_classes": [],
            "_model_module": "@jupyter-widgets/controls",
            "_model_module_version": "1.5.0",
            "_model_name": "HTMLModel",
            "_view_count": null,
            "_view_module": "@jupyter-widgets/controls",
            "_view_module_version": "1.5.0",
            "_view_name": "HTMLView",
            "description": "",
            "description_tooltip": null,
            "layout": "IPY_MODEL_38165b9eb1b54d17ac7442f8dcc80c26",
            "placeholder": "​",
            "style": "IPY_MODEL_242fac913708408ea9a785a0b8e65f33",
            "value": "Filter: 100%"
          }
        },
        "7d5156827b694587807236f26e874ba4": {
          "model_module": "@jupyter-widgets/controls",
          "model_name": "FloatProgressModel",
          "model_module_version": "1.5.0",
          "state": {
            "_dom_classes": [],
            "_model_module": "@jupyter-widgets/controls",
            "_model_module_version": "1.5.0",
            "_model_name": "FloatProgressModel",
            "_view_count": null,
            "_view_module": "@jupyter-widgets/controls",
            "_view_module_version": "1.5.0",
            "_view_name": "ProgressView",
            "bar_style": "success",
            "description": "",
            "description_tooltip": null,
            "layout": "IPY_MODEL_2f2b7cca41944073adb404acf50bb208",
            "max": 2299,
            "min": 0,
            "orientation": "horizontal",
            "style": "IPY_MODEL_b4041e9024a447fa85c103e27608f755",
            "value": 2299
          }
        },
        "eba9923540d74a7a836c7cc86002542f": {
          "model_module": "@jupyter-widgets/controls",
          "model_name": "HTMLModel",
          "model_module_version": "1.5.0",
          "state": {
            "_dom_classes": [],
            "_model_module": "@jupyter-widgets/controls",
            "_model_module_version": "1.5.0",
            "_model_name": "HTMLModel",
            "_view_count": null,
            "_view_module": "@jupyter-widgets/controls",
            "_view_module_version": "1.5.0",
            "_view_name": "HTMLView",
            "description": "",
            "description_tooltip": null,
            "layout": "IPY_MODEL_76bdd46daa8b4608885c338240eb135a",
            "placeholder": "​",
            "style": "IPY_MODEL_6dc0e34a9433429e80772fb99fd9ca5d",
            "value": " 2299/2299 [00:00&lt;00:00, 35218.96 examples/s]"
          }
        },
        "6d3664bff36f4a5aa91383eb2fc8cd63": {
          "model_module": "@jupyter-widgets/base",
          "model_name": "LayoutModel",
          "model_module_version": "1.2.0",
          "state": {
            "_model_module": "@jupyter-widgets/base",
            "_model_module_version": "1.2.0",
            "_model_name": "LayoutModel",
            "_view_count": null,
            "_view_module": "@jupyter-widgets/base",
            "_view_module_version": "1.2.0",
            "_view_name": "LayoutView",
            "align_content": null,
            "align_items": null,
            "align_self": null,
            "border": null,
            "bottom": null,
            "display": null,
            "flex": null,
            "flex_flow": null,
            "grid_area": null,
            "grid_auto_columns": null,
            "grid_auto_flow": null,
            "grid_auto_rows": null,
            "grid_column": null,
            "grid_gap": null,
            "grid_row": null,
            "grid_template_areas": null,
            "grid_template_columns": null,
            "grid_template_rows": null,
            "height": null,
            "justify_content": null,
            "justify_items": null,
            "left": null,
            "margin": null,
            "max_height": null,
            "max_width": null,
            "min_height": null,
            "min_width": null,
            "object_fit": null,
            "object_position": null,
            "order": null,
            "overflow": null,
            "overflow_x": null,
            "overflow_y": null,
            "padding": null,
            "right": null,
            "top": null,
            "visibility": null,
            "width": null
          }
        },
        "38165b9eb1b54d17ac7442f8dcc80c26": {
          "model_module": "@jupyter-widgets/base",
          "model_name": "LayoutModel",
          "model_module_version": "1.2.0",
          "state": {
            "_model_module": "@jupyter-widgets/base",
            "_model_module_version": "1.2.0",
            "_model_name": "LayoutModel",
            "_view_count": null,
            "_view_module": "@jupyter-widgets/base",
            "_view_module_version": "1.2.0",
            "_view_name": "LayoutView",
            "align_content": null,
            "align_items": null,
            "align_self": null,
            "border": null,
            "bottom": null,
            "display": null,
            "flex": null,
            "flex_flow": null,
            "grid_area": null,
            "grid_auto_columns": null,
            "grid_auto_flow": null,
            "grid_auto_rows": null,
            "grid_column": null,
            "grid_gap": null,
            "grid_row": null,
            "grid_template_areas": null,
            "grid_template_columns": null,
            "grid_template_rows": null,
            "height": null,
            "justify_content": null,
            "justify_items": null,
            "left": null,
            "margin": null,
            "max_height": null,
            "max_width": null,
            "min_height": null,
            "min_width": null,
            "object_fit": null,
            "object_position": null,
            "order": null,
            "overflow": null,
            "overflow_x": null,
            "overflow_y": null,
            "padding": null,
            "right": null,
            "top": null,
            "visibility": null,
            "width": null
          }
        },
        "242fac913708408ea9a785a0b8e65f33": {
          "model_module": "@jupyter-widgets/controls",
          "model_name": "DescriptionStyleModel",
          "model_module_version": "1.5.0",
          "state": {
            "_model_module": "@jupyter-widgets/controls",
            "_model_module_version": "1.5.0",
            "_model_name": "DescriptionStyleModel",
            "_view_count": null,
            "_view_module": "@jupyter-widgets/base",
            "_view_module_version": "1.2.0",
            "_view_name": "StyleView",
            "description_width": ""
          }
        },
        "2f2b7cca41944073adb404acf50bb208": {
          "model_module": "@jupyter-widgets/base",
          "model_name": "LayoutModel",
          "model_module_version": "1.2.0",
          "state": {
            "_model_module": "@jupyter-widgets/base",
            "_model_module_version": "1.2.0",
            "_model_name": "LayoutModel",
            "_view_count": null,
            "_view_module": "@jupyter-widgets/base",
            "_view_module_version": "1.2.0",
            "_view_name": "LayoutView",
            "align_content": null,
            "align_items": null,
            "align_self": null,
            "border": null,
            "bottom": null,
            "display": null,
            "flex": null,
            "flex_flow": null,
            "grid_area": null,
            "grid_auto_columns": null,
            "grid_auto_flow": null,
            "grid_auto_rows": null,
            "grid_column": null,
            "grid_gap": null,
            "grid_row": null,
            "grid_template_areas": null,
            "grid_template_columns": null,
            "grid_template_rows": null,
            "height": null,
            "justify_content": null,
            "justify_items": null,
            "left": null,
            "margin": null,
            "max_height": null,
            "max_width": null,
            "min_height": null,
            "min_width": null,
            "object_fit": null,
            "object_position": null,
            "order": null,
            "overflow": null,
            "overflow_x": null,
            "overflow_y": null,
            "padding": null,
            "right": null,
            "top": null,
            "visibility": null,
            "width": null
          }
        },
        "b4041e9024a447fa85c103e27608f755": {
          "model_module": "@jupyter-widgets/controls",
          "model_name": "ProgressStyleModel",
          "model_module_version": "1.5.0",
          "state": {
            "_model_module": "@jupyter-widgets/controls",
            "_model_module_version": "1.5.0",
            "_model_name": "ProgressStyleModel",
            "_view_count": null,
            "_view_module": "@jupyter-widgets/base",
            "_view_module_version": "1.2.0",
            "_view_name": "StyleView",
            "bar_color": null,
            "description_width": ""
          }
        },
        "76bdd46daa8b4608885c338240eb135a": {
          "model_module": "@jupyter-widgets/base",
          "model_name": "LayoutModel",
          "model_module_version": "1.2.0",
          "state": {
            "_model_module": "@jupyter-widgets/base",
            "_model_module_version": "1.2.0",
            "_model_name": "LayoutModel",
            "_view_count": null,
            "_view_module": "@jupyter-widgets/base",
            "_view_module_version": "1.2.0",
            "_view_name": "LayoutView",
            "align_content": null,
            "align_items": null,
            "align_self": null,
            "border": null,
            "bottom": null,
            "display": null,
            "flex": null,
            "flex_flow": null,
            "grid_area": null,
            "grid_auto_columns": null,
            "grid_auto_flow": null,
            "grid_auto_rows": null,
            "grid_column": null,
            "grid_gap": null,
            "grid_row": null,
            "grid_template_areas": null,
            "grid_template_columns": null,
            "grid_template_rows": null,
            "height": null,
            "justify_content": null,
            "justify_items": null,
            "left": null,
            "margin": null,
            "max_height": null,
            "max_width": null,
            "min_height": null,
            "min_width": null,
            "object_fit": null,
            "object_position": null,
            "order": null,
            "overflow": null,
            "overflow_x": null,
            "overflow_y": null,
            "padding": null,
            "right": null,
            "top": null,
            "visibility": null,
            "width": null
          }
        },
        "6dc0e34a9433429e80772fb99fd9ca5d": {
          "model_module": "@jupyter-widgets/controls",
          "model_name": "DescriptionStyleModel",
          "model_module_version": "1.5.0",
          "state": {
            "_model_module": "@jupyter-widgets/controls",
            "_model_module_version": "1.5.0",
            "_model_name": "DescriptionStyleModel",
            "_view_count": null,
            "_view_module": "@jupyter-widgets/base",
            "_view_module_version": "1.2.0",
            "_view_name": "StyleView",
            "description_width": ""
          }
        },
        "8bba8ed6b2bf4178b02ea938023e3ef0": {
          "model_module": "@jupyter-widgets/controls",
          "model_name": "HBoxModel",
          "model_module_version": "1.5.0",
          "state": {
            "_dom_classes": [],
            "_model_module": "@jupyter-widgets/controls",
            "_model_module_version": "1.5.0",
            "_model_name": "HBoxModel",
            "_view_count": null,
            "_view_module": "@jupyter-widgets/controls",
            "_view_module_version": "1.5.0",
            "_view_name": "HBoxView",
            "box_style": "",
            "children": [
              "IPY_MODEL_0adc2a1780514a9287a0477b7f7f933c",
              "IPY_MODEL_da8f2215df1a48f3b3e76d9832c5b790",
              "IPY_MODEL_b872044533e54a4583a229dea3935c54"
            ],
            "layout": "IPY_MODEL_18c1cff53a8a4ef1b3a69a80ee9096d4"
          }
        },
        "0adc2a1780514a9287a0477b7f7f933c": {
          "model_module": "@jupyter-widgets/controls",
          "model_name": "HTMLModel",
          "model_module_version": "1.5.0",
          "state": {
            "_dom_classes": [],
            "_model_module": "@jupyter-widgets/controls",
            "_model_module_version": "1.5.0",
            "_model_name": "HTMLModel",
            "_view_count": null,
            "_view_module": "@jupyter-widgets/controls",
            "_view_module_version": "1.5.0",
            "_view_name": "HTMLView",
            "description": "",
            "description_tooltip": null,
            "layout": "IPY_MODEL_2cbf60fff861468d8be0cbf79e015e6e",
            "placeholder": "​",
            "style": "IPY_MODEL_593bbbd0abc3438fb3da2bd2cef83af5",
            "value": "Filter: 100%"
          }
        },
        "da8f2215df1a48f3b3e76d9832c5b790": {
          "model_module": "@jupyter-widgets/controls",
          "model_name": "FloatProgressModel",
          "model_module_version": "1.5.0",
          "state": {
            "_dom_classes": [],
            "_model_module": "@jupyter-widgets/controls",
            "_model_module_version": "1.5.0",
            "_model_name": "FloatProgressModel",
            "_view_count": null,
            "_view_module": "@jupyter-widgets/controls",
            "_view_module_version": "1.5.0",
            "_view_name": "ProgressView",
            "bar_style": "success",
            "description": "",
            "description_tooltip": null,
            "layout": "IPY_MODEL_1c9b4905fcc54f818a19c3bb5cde145e",
            "max": 2299,
            "min": 0,
            "orientation": "horizontal",
            "style": "IPY_MODEL_1aa8a3ff89b64508aedef4c9c8b79734",
            "value": 2299
          }
        },
        "b872044533e54a4583a229dea3935c54": {
          "model_module": "@jupyter-widgets/controls",
          "model_name": "HTMLModel",
          "model_module_version": "1.5.0",
          "state": {
            "_dom_classes": [],
            "_model_module": "@jupyter-widgets/controls",
            "_model_module_version": "1.5.0",
            "_model_name": "HTMLModel",
            "_view_count": null,
            "_view_module": "@jupyter-widgets/controls",
            "_view_module_version": "1.5.0",
            "_view_name": "HTMLView",
            "description": "",
            "description_tooltip": null,
            "layout": "IPY_MODEL_2c20b30ab3b74a19a0cecc215948e133",
            "placeholder": "​",
            "style": "IPY_MODEL_1a1f019daf5c42dba377b3a0255797a1",
            "value": " 2299/2299 [00:00&lt;00:00, 35487.26 examples/s]"
          }
        },
        "18c1cff53a8a4ef1b3a69a80ee9096d4": {
          "model_module": "@jupyter-widgets/base",
          "model_name": "LayoutModel",
          "model_module_version": "1.2.0",
          "state": {
            "_model_module": "@jupyter-widgets/base",
            "_model_module_version": "1.2.0",
            "_model_name": "LayoutModel",
            "_view_count": null,
            "_view_module": "@jupyter-widgets/base",
            "_view_module_version": "1.2.0",
            "_view_name": "LayoutView",
            "align_content": null,
            "align_items": null,
            "align_self": null,
            "border": null,
            "bottom": null,
            "display": null,
            "flex": null,
            "flex_flow": null,
            "grid_area": null,
            "grid_auto_columns": null,
            "grid_auto_flow": null,
            "grid_auto_rows": null,
            "grid_column": null,
            "grid_gap": null,
            "grid_row": null,
            "grid_template_areas": null,
            "grid_template_columns": null,
            "grid_template_rows": null,
            "height": null,
            "justify_content": null,
            "justify_items": null,
            "left": null,
            "margin": null,
            "max_height": null,
            "max_width": null,
            "min_height": null,
            "min_width": null,
            "object_fit": null,
            "object_position": null,
            "order": null,
            "overflow": null,
            "overflow_x": null,
            "overflow_y": null,
            "padding": null,
            "right": null,
            "top": null,
            "visibility": null,
            "width": null
          }
        },
        "2cbf60fff861468d8be0cbf79e015e6e": {
          "model_module": "@jupyter-widgets/base",
          "model_name": "LayoutModel",
          "model_module_version": "1.2.0",
          "state": {
            "_model_module": "@jupyter-widgets/base",
            "_model_module_version": "1.2.0",
            "_model_name": "LayoutModel",
            "_view_count": null,
            "_view_module": "@jupyter-widgets/base",
            "_view_module_version": "1.2.0",
            "_view_name": "LayoutView",
            "align_content": null,
            "align_items": null,
            "align_self": null,
            "border": null,
            "bottom": null,
            "display": null,
            "flex": null,
            "flex_flow": null,
            "grid_area": null,
            "grid_auto_columns": null,
            "grid_auto_flow": null,
            "grid_auto_rows": null,
            "grid_column": null,
            "grid_gap": null,
            "grid_row": null,
            "grid_template_areas": null,
            "grid_template_columns": null,
            "grid_template_rows": null,
            "height": null,
            "justify_content": null,
            "justify_items": null,
            "left": null,
            "margin": null,
            "max_height": null,
            "max_width": null,
            "min_height": null,
            "min_width": null,
            "object_fit": null,
            "object_position": null,
            "order": null,
            "overflow": null,
            "overflow_x": null,
            "overflow_y": null,
            "padding": null,
            "right": null,
            "top": null,
            "visibility": null,
            "width": null
          }
        },
        "593bbbd0abc3438fb3da2bd2cef83af5": {
          "model_module": "@jupyter-widgets/controls",
          "model_name": "DescriptionStyleModel",
          "model_module_version": "1.5.0",
          "state": {
            "_model_module": "@jupyter-widgets/controls",
            "_model_module_version": "1.5.0",
            "_model_name": "DescriptionStyleModel",
            "_view_count": null,
            "_view_module": "@jupyter-widgets/base",
            "_view_module_version": "1.2.0",
            "_view_name": "StyleView",
            "description_width": ""
          }
        },
        "1c9b4905fcc54f818a19c3bb5cde145e": {
          "model_module": "@jupyter-widgets/base",
          "model_name": "LayoutModel",
          "model_module_version": "1.2.0",
          "state": {
            "_model_module": "@jupyter-widgets/base",
            "_model_module_version": "1.2.0",
            "_model_name": "LayoutModel",
            "_view_count": null,
            "_view_module": "@jupyter-widgets/base",
            "_view_module_version": "1.2.0",
            "_view_name": "LayoutView",
            "align_content": null,
            "align_items": null,
            "align_self": null,
            "border": null,
            "bottom": null,
            "display": null,
            "flex": null,
            "flex_flow": null,
            "grid_area": null,
            "grid_auto_columns": null,
            "grid_auto_flow": null,
            "grid_auto_rows": null,
            "grid_column": null,
            "grid_gap": null,
            "grid_row": null,
            "grid_template_areas": null,
            "grid_template_columns": null,
            "grid_template_rows": null,
            "height": null,
            "justify_content": null,
            "justify_items": null,
            "left": null,
            "margin": null,
            "max_height": null,
            "max_width": null,
            "min_height": null,
            "min_width": null,
            "object_fit": null,
            "object_position": null,
            "order": null,
            "overflow": null,
            "overflow_x": null,
            "overflow_y": null,
            "padding": null,
            "right": null,
            "top": null,
            "visibility": null,
            "width": null
          }
        },
        "1aa8a3ff89b64508aedef4c9c8b79734": {
          "model_module": "@jupyter-widgets/controls",
          "model_name": "ProgressStyleModel",
          "model_module_version": "1.5.0",
          "state": {
            "_model_module": "@jupyter-widgets/controls",
            "_model_module_version": "1.5.0",
            "_model_name": "ProgressStyleModel",
            "_view_count": null,
            "_view_module": "@jupyter-widgets/base",
            "_view_module_version": "1.2.0",
            "_view_name": "StyleView",
            "bar_color": null,
            "description_width": ""
          }
        },
        "2c20b30ab3b74a19a0cecc215948e133": {
          "model_module": "@jupyter-widgets/base",
          "model_name": "LayoutModel",
          "model_module_version": "1.2.0",
          "state": {
            "_model_module": "@jupyter-widgets/base",
            "_model_module_version": "1.2.0",
            "_model_name": "LayoutModel",
            "_view_count": null,
            "_view_module": "@jupyter-widgets/base",
            "_view_module_version": "1.2.0",
            "_view_name": "LayoutView",
            "align_content": null,
            "align_items": null,
            "align_self": null,
            "border": null,
            "bottom": null,
            "display": null,
            "flex": null,
            "flex_flow": null,
            "grid_area": null,
            "grid_auto_columns": null,
            "grid_auto_flow": null,
            "grid_auto_rows": null,
            "grid_column": null,
            "grid_gap": null,
            "grid_row": null,
            "grid_template_areas": null,
            "grid_template_columns": null,
            "grid_template_rows": null,
            "height": null,
            "justify_content": null,
            "justify_items": null,
            "left": null,
            "margin": null,
            "max_height": null,
            "max_width": null,
            "min_height": null,
            "min_width": null,
            "object_fit": null,
            "object_position": null,
            "order": null,
            "overflow": null,
            "overflow_x": null,
            "overflow_y": null,
            "padding": null,
            "right": null,
            "top": null,
            "visibility": null,
            "width": null
          }
        },
        "1a1f019daf5c42dba377b3a0255797a1": {
          "model_module": "@jupyter-widgets/controls",
          "model_name": "DescriptionStyleModel",
          "model_module_version": "1.5.0",
          "state": {
            "_model_module": "@jupyter-widgets/controls",
            "_model_module_version": "1.5.0",
            "_model_name": "DescriptionStyleModel",
            "_view_count": null,
            "_view_module": "@jupyter-widgets/base",
            "_view_module_version": "1.2.0",
            "_view_name": "StyleView",
            "description_width": ""
          }
        },
        "880fc3c485d54025aa937af7032854f4": {
          "model_module": "@jupyter-widgets/controls",
          "model_name": "HBoxModel",
          "model_module_version": "1.5.0",
          "state": {
            "_dom_classes": [],
            "_model_module": "@jupyter-widgets/controls",
            "_model_module_version": "1.5.0",
            "_model_name": "HBoxModel",
            "_view_count": null,
            "_view_module": "@jupyter-widgets/controls",
            "_view_module_version": "1.5.0",
            "_view_name": "HBoxView",
            "box_style": "",
            "children": [
              "IPY_MODEL_5a59753e8a904b34916fdd395bf994f2",
              "IPY_MODEL_897c31bbc4ff45deb4ad8adb2322cd01",
              "IPY_MODEL_7efb931440104d29a275c718d7b2cf06"
            ],
            "layout": "IPY_MODEL_bb443182668e4d8babf05f2c2037fe42"
          }
        },
        "5a59753e8a904b34916fdd395bf994f2": {
          "model_module": "@jupyter-widgets/controls",
          "model_name": "HTMLModel",
          "model_module_version": "1.5.0",
          "state": {
            "_dom_classes": [],
            "_model_module": "@jupyter-widgets/controls",
            "_model_module_version": "1.5.0",
            "_model_name": "HTMLModel",
            "_view_count": null,
            "_view_module": "@jupyter-widgets/controls",
            "_view_module_version": "1.5.0",
            "_view_name": "HTMLView",
            "description": "",
            "description_tooltip": null,
            "layout": "IPY_MODEL_31a4a76f1889426f992a1896e7b16aa4",
            "placeholder": "​",
            "style": "IPY_MODEL_76623e9364c347948273c4e084d28530",
            "value": "Filter: 100%"
          }
        },
        "897c31bbc4ff45deb4ad8adb2322cd01": {
          "model_module": "@jupyter-widgets/controls",
          "model_name": "FloatProgressModel",
          "model_module_version": "1.5.0",
          "state": {
            "_dom_classes": [],
            "_model_module": "@jupyter-widgets/controls",
            "_model_module_version": "1.5.0",
            "_model_name": "FloatProgressModel",
            "_view_count": null,
            "_view_module": "@jupyter-widgets/controls",
            "_view_module_version": "1.5.0",
            "_view_name": "ProgressView",
            "bar_style": "success",
            "description": "",
            "description_tooltip": null,
            "layout": "IPY_MODEL_019916f6450748cf97fb99bff9ccbe1f",
            "max": 13027,
            "min": 0,
            "orientation": "horizontal",
            "style": "IPY_MODEL_d4e89e9e092a408e910020fa521b6488",
            "value": 13027
          }
        },
        "7efb931440104d29a275c718d7b2cf06": {
          "model_module": "@jupyter-widgets/controls",
          "model_name": "HTMLModel",
          "model_module_version": "1.5.0",
          "state": {
            "_dom_classes": [],
            "_model_module": "@jupyter-widgets/controls",
            "_model_module_version": "1.5.0",
            "_model_name": "HTMLModel",
            "_view_count": null,
            "_view_module": "@jupyter-widgets/controls",
            "_view_module_version": "1.5.0",
            "_view_name": "HTMLView",
            "description": "",
            "description_tooltip": null,
            "layout": "IPY_MODEL_93526bd0b7a64238ac73181304a9aa73",
            "placeholder": "​",
            "style": "IPY_MODEL_05d505e91d2a4116bc69a06e2d635cd4",
            "value": " 13027/13027 [00:00&lt;00:00, 42473.40 examples/s]"
          }
        },
        "bb443182668e4d8babf05f2c2037fe42": {
          "model_module": "@jupyter-widgets/base",
          "model_name": "LayoutModel",
          "model_module_version": "1.2.0",
          "state": {
            "_model_module": "@jupyter-widgets/base",
            "_model_module_version": "1.2.0",
            "_model_name": "LayoutModel",
            "_view_count": null,
            "_view_module": "@jupyter-widgets/base",
            "_view_module_version": "1.2.0",
            "_view_name": "LayoutView",
            "align_content": null,
            "align_items": null,
            "align_self": null,
            "border": null,
            "bottom": null,
            "display": null,
            "flex": null,
            "flex_flow": null,
            "grid_area": null,
            "grid_auto_columns": null,
            "grid_auto_flow": null,
            "grid_auto_rows": null,
            "grid_column": null,
            "grid_gap": null,
            "grid_row": null,
            "grid_template_areas": null,
            "grid_template_columns": null,
            "grid_template_rows": null,
            "height": null,
            "justify_content": null,
            "justify_items": null,
            "left": null,
            "margin": null,
            "max_height": null,
            "max_width": null,
            "min_height": null,
            "min_width": null,
            "object_fit": null,
            "object_position": null,
            "order": null,
            "overflow": null,
            "overflow_x": null,
            "overflow_y": null,
            "padding": null,
            "right": null,
            "top": null,
            "visibility": null,
            "width": null
          }
        },
        "31a4a76f1889426f992a1896e7b16aa4": {
          "model_module": "@jupyter-widgets/base",
          "model_name": "LayoutModel",
          "model_module_version": "1.2.0",
          "state": {
            "_model_module": "@jupyter-widgets/base",
            "_model_module_version": "1.2.0",
            "_model_name": "LayoutModel",
            "_view_count": null,
            "_view_module": "@jupyter-widgets/base",
            "_view_module_version": "1.2.0",
            "_view_name": "LayoutView",
            "align_content": null,
            "align_items": null,
            "align_self": null,
            "border": null,
            "bottom": null,
            "display": null,
            "flex": null,
            "flex_flow": null,
            "grid_area": null,
            "grid_auto_columns": null,
            "grid_auto_flow": null,
            "grid_auto_rows": null,
            "grid_column": null,
            "grid_gap": null,
            "grid_row": null,
            "grid_template_areas": null,
            "grid_template_columns": null,
            "grid_template_rows": null,
            "height": null,
            "justify_content": null,
            "justify_items": null,
            "left": null,
            "margin": null,
            "max_height": null,
            "max_width": null,
            "min_height": null,
            "min_width": null,
            "object_fit": null,
            "object_position": null,
            "order": null,
            "overflow": null,
            "overflow_x": null,
            "overflow_y": null,
            "padding": null,
            "right": null,
            "top": null,
            "visibility": null,
            "width": null
          }
        },
        "76623e9364c347948273c4e084d28530": {
          "model_module": "@jupyter-widgets/controls",
          "model_name": "DescriptionStyleModel",
          "model_module_version": "1.5.0",
          "state": {
            "_model_module": "@jupyter-widgets/controls",
            "_model_module_version": "1.5.0",
            "_model_name": "DescriptionStyleModel",
            "_view_count": null,
            "_view_module": "@jupyter-widgets/base",
            "_view_module_version": "1.2.0",
            "_view_name": "StyleView",
            "description_width": ""
          }
        },
        "019916f6450748cf97fb99bff9ccbe1f": {
          "model_module": "@jupyter-widgets/base",
          "model_name": "LayoutModel",
          "model_module_version": "1.2.0",
          "state": {
            "_model_module": "@jupyter-widgets/base",
            "_model_module_version": "1.2.0",
            "_model_name": "LayoutModel",
            "_view_count": null,
            "_view_module": "@jupyter-widgets/base",
            "_view_module_version": "1.2.0",
            "_view_name": "LayoutView",
            "align_content": null,
            "align_items": null,
            "align_self": null,
            "border": null,
            "bottom": null,
            "display": null,
            "flex": null,
            "flex_flow": null,
            "grid_area": null,
            "grid_auto_columns": null,
            "grid_auto_flow": null,
            "grid_auto_rows": null,
            "grid_column": null,
            "grid_gap": null,
            "grid_row": null,
            "grid_template_areas": null,
            "grid_template_columns": null,
            "grid_template_rows": null,
            "height": null,
            "justify_content": null,
            "justify_items": null,
            "left": null,
            "margin": null,
            "max_height": null,
            "max_width": null,
            "min_height": null,
            "min_width": null,
            "object_fit": null,
            "object_position": null,
            "order": null,
            "overflow": null,
            "overflow_x": null,
            "overflow_y": null,
            "padding": null,
            "right": null,
            "top": null,
            "visibility": null,
            "width": null
          }
        },
        "d4e89e9e092a408e910020fa521b6488": {
          "model_module": "@jupyter-widgets/controls",
          "model_name": "ProgressStyleModel",
          "model_module_version": "1.5.0",
          "state": {
            "_model_module": "@jupyter-widgets/controls",
            "_model_module_version": "1.5.0",
            "_model_name": "ProgressStyleModel",
            "_view_count": null,
            "_view_module": "@jupyter-widgets/base",
            "_view_module_version": "1.2.0",
            "_view_name": "StyleView",
            "bar_color": null,
            "description_width": ""
          }
        },
        "93526bd0b7a64238ac73181304a9aa73": {
          "model_module": "@jupyter-widgets/base",
          "model_name": "LayoutModel",
          "model_module_version": "1.2.0",
          "state": {
            "_model_module": "@jupyter-widgets/base",
            "_model_module_version": "1.2.0",
            "_model_name": "LayoutModel",
            "_view_count": null,
            "_view_module": "@jupyter-widgets/base",
            "_view_module_version": "1.2.0",
            "_view_name": "LayoutView",
            "align_content": null,
            "align_items": null,
            "align_self": null,
            "border": null,
            "bottom": null,
            "display": null,
            "flex": null,
            "flex_flow": null,
            "grid_area": null,
            "grid_auto_columns": null,
            "grid_auto_flow": null,
            "grid_auto_rows": null,
            "grid_column": null,
            "grid_gap": null,
            "grid_row": null,
            "grid_template_areas": null,
            "grid_template_columns": null,
            "grid_template_rows": null,
            "height": null,
            "justify_content": null,
            "justify_items": null,
            "left": null,
            "margin": null,
            "max_height": null,
            "max_width": null,
            "min_height": null,
            "min_width": null,
            "object_fit": null,
            "object_position": null,
            "order": null,
            "overflow": null,
            "overflow_x": null,
            "overflow_y": null,
            "padding": null,
            "right": null,
            "top": null,
            "visibility": null,
            "width": null
          }
        },
        "05d505e91d2a4116bc69a06e2d635cd4": {
          "model_module": "@jupyter-widgets/controls",
          "model_name": "DescriptionStyleModel",
          "model_module_version": "1.5.0",
          "state": {
            "_model_module": "@jupyter-widgets/controls",
            "_model_module_version": "1.5.0",
            "_model_name": "DescriptionStyleModel",
            "_view_count": null,
            "_view_module": "@jupyter-widgets/base",
            "_view_module_version": "1.2.0",
            "_view_name": "StyleView",
            "description_width": ""
          }
        },
        "24b2dbb5acb5482f8f5734077c9c5484": {
          "model_module": "@jupyter-widgets/controls",
          "model_name": "HBoxModel",
          "model_module_version": "1.5.0",
          "state": {
            "_dom_classes": [],
            "_model_module": "@jupyter-widgets/controls",
            "_model_module_version": "1.5.0",
            "_model_name": "HBoxModel",
            "_view_count": null,
            "_view_module": "@jupyter-widgets/controls",
            "_view_module_version": "1.5.0",
            "_view_name": "HBoxView",
            "box_style": "",
            "children": [
              "IPY_MODEL_6b6c58bd57454f3cae802eb346ed812f",
              "IPY_MODEL_14e443539eab428699b4c97b8e3cce7d",
              "IPY_MODEL_baa7c234d7eb48a4b7c961284e6a843e"
            ],
            "layout": "IPY_MODEL_60326219955b480f82f4bfa5c2483cfc"
          }
        },
        "6b6c58bd57454f3cae802eb346ed812f": {
          "model_module": "@jupyter-widgets/controls",
          "model_name": "HTMLModel",
          "model_module_version": "1.5.0",
          "state": {
            "_dom_classes": [],
            "_model_module": "@jupyter-widgets/controls",
            "_model_module_version": "1.5.0",
            "_model_name": "HTMLModel",
            "_view_count": null,
            "_view_module": "@jupyter-widgets/controls",
            "_view_module_version": "1.5.0",
            "_view_name": "HTMLView",
            "description": "",
            "description_tooltip": null,
            "layout": "IPY_MODEL_7786e899155547e2b2b8959cc6dcc69f",
            "placeholder": "​",
            "style": "IPY_MODEL_901883f6495041618c0cb6c8a006f886",
            "value": "Filter: 100%"
          }
        },
        "14e443539eab428699b4c97b8e3cce7d": {
          "model_module": "@jupyter-widgets/controls",
          "model_name": "FloatProgressModel",
          "model_module_version": "1.5.0",
          "state": {
            "_dom_classes": [],
            "_model_module": "@jupyter-widgets/controls",
            "_model_module_version": "1.5.0",
            "_model_name": "FloatProgressModel",
            "_view_count": null,
            "_view_module": "@jupyter-widgets/controls",
            "_view_module_version": "1.5.0",
            "_view_name": "ProgressView",
            "bar_style": "success",
            "description": "",
            "description_tooltip": null,
            "layout": "IPY_MODEL_8c6aa4f297994bb7a7e841526dd06b0e",
            "max": 2299,
            "min": 0,
            "orientation": "horizontal",
            "style": "IPY_MODEL_20f5c53fd05e41b5bb9c781d9acab692",
            "value": 2299
          }
        },
        "baa7c234d7eb48a4b7c961284e6a843e": {
          "model_module": "@jupyter-widgets/controls",
          "model_name": "HTMLModel",
          "model_module_version": "1.5.0",
          "state": {
            "_dom_classes": [],
            "_model_module": "@jupyter-widgets/controls",
            "_model_module_version": "1.5.0",
            "_model_name": "HTMLModel",
            "_view_count": null,
            "_view_module": "@jupyter-widgets/controls",
            "_view_module_version": "1.5.0",
            "_view_name": "HTMLView",
            "description": "",
            "description_tooltip": null,
            "layout": "IPY_MODEL_2d5d681ab4fa4a48869cd4e0184b925d",
            "placeholder": "​",
            "style": "IPY_MODEL_71391b8863f64b7c9055a0a603cb7eb8",
            "value": " 2299/2299 [00:00&lt;00:00, 27387.59 examples/s]"
          }
        },
        "60326219955b480f82f4bfa5c2483cfc": {
          "model_module": "@jupyter-widgets/base",
          "model_name": "LayoutModel",
          "model_module_version": "1.2.0",
          "state": {
            "_model_module": "@jupyter-widgets/base",
            "_model_module_version": "1.2.0",
            "_model_name": "LayoutModel",
            "_view_count": null,
            "_view_module": "@jupyter-widgets/base",
            "_view_module_version": "1.2.0",
            "_view_name": "LayoutView",
            "align_content": null,
            "align_items": null,
            "align_self": null,
            "border": null,
            "bottom": null,
            "display": null,
            "flex": null,
            "flex_flow": null,
            "grid_area": null,
            "grid_auto_columns": null,
            "grid_auto_flow": null,
            "grid_auto_rows": null,
            "grid_column": null,
            "grid_gap": null,
            "grid_row": null,
            "grid_template_areas": null,
            "grid_template_columns": null,
            "grid_template_rows": null,
            "height": null,
            "justify_content": null,
            "justify_items": null,
            "left": null,
            "margin": null,
            "max_height": null,
            "max_width": null,
            "min_height": null,
            "min_width": null,
            "object_fit": null,
            "object_position": null,
            "order": null,
            "overflow": null,
            "overflow_x": null,
            "overflow_y": null,
            "padding": null,
            "right": null,
            "top": null,
            "visibility": null,
            "width": null
          }
        },
        "7786e899155547e2b2b8959cc6dcc69f": {
          "model_module": "@jupyter-widgets/base",
          "model_name": "LayoutModel",
          "model_module_version": "1.2.0",
          "state": {
            "_model_module": "@jupyter-widgets/base",
            "_model_module_version": "1.2.0",
            "_model_name": "LayoutModel",
            "_view_count": null,
            "_view_module": "@jupyter-widgets/base",
            "_view_module_version": "1.2.0",
            "_view_name": "LayoutView",
            "align_content": null,
            "align_items": null,
            "align_self": null,
            "border": null,
            "bottom": null,
            "display": null,
            "flex": null,
            "flex_flow": null,
            "grid_area": null,
            "grid_auto_columns": null,
            "grid_auto_flow": null,
            "grid_auto_rows": null,
            "grid_column": null,
            "grid_gap": null,
            "grid_row": null,
            "grid_template_areas": null,
            "grid_template_columns": null,
            "grid_template_rows": null,
            "height": null,
            "justify_content": null,
            "justify_items": null,
            "left": null,
            "margin": null,
            "max_height": null,
            "max_width": null,
            "min_height": null,
            "min_width": null,
            "object_fit": null,
            "object_position": null,
            "order": null,
            "overflow": null,
            "overflow_x": null,
            "overflow_y": null,
            "padding": null,
            "right": null,
            "top": null,
            "visibility": null,
            "width": null
          }
        },
        "901883f6495041618c0cb6c8a006f886": {
          "model_module": "@jupyter-widgets/controls",
          "model_name": "DescriptionStyleModel",
          "model_module_version": "1.5.0",
          "state": {
            "_model_module": "@jupyter-widgets/controls",
            "_model_module_version": "1.5.0",
            "_model_name": "DescriptionStyleModel",
            "_view_count": null,
            "_view_module": "@jupyter-widgets/base",
            "_view_module_version": "1.2.0",
            "_view_name": "StyleView",
            "description_width": ""
          }
        },
        "8c6aa4f297994bb7a7e841526dd06b0e": {
          "model_module": "@jupyter-widgets/base",
          "model_name": "LayoutModel",
          "model_module_version": "1.2.0",
          "state": {
            "_model_module": "@jupyter-widgets/base",
            "_model_module_version": "1.2.0",
            "_model_name": "LayoutModel",
            "_view_count": null,
            "_view_module": "@jupyter-widgets/base",
            "_view_module_version": "1.2.0",
            "_view_name": "LayoutView",
            "align_content": null,
            "align_items": null,
            "align_self": null,
            "border": null,
            "bottom": null,
            "display": null,
            "flex": null,
            "flex_flow": null,
            "grid_area": null,
            "grid_auto_columns": null,
            "grid_auto_flow": null,
            "grid_auto_rows": null,
            "grid_column": null,
            "grid_gap": null,
            "grid_row": null,
            "grid_template_areas": null,
            "grid_template_columns": null,
            "grid_template_rows": null,
            "height": null,
            "justify_content": null,
            "justify_items": null,
            "left": null,
            "margin": null,
            "max_height": null,
            "max_width": null,
            "min_height": null,
            "min_width": null,
            "object_fit": null,
            "object_position": null,
            "order": null,
            "overflow": null,
            "overflow_x": null,
            "overflow_y": null,
            "padding": null,
            "right": null,
            "top": null,
            "visibility": null,
            "width": null
          }
        },
        "20f5c53fd05e41b5bb9c781d9acab692": {
          "model_module": "@jupyter-widgets/controls",
          "model_name": "ProgressStyleModel",
          "model_module_version": "1.5.0",
          "state": {
            "_model_module": "@jupyter-widgets/controls",
            "_model_module_version": "1.5.0",
            "_model_name": "ProgressStyleModel",
            "_view_count": null,
            "_view_module": "@jupyter-widgets/base",
            "_view_module_version": "1.2.0",
            "_view_name": "StyleView",
            "bar_color": null,
            "description_width": ""
          }
        },
        "2d5d681ab4fa4a48869cd4e0184b925d": {
          "model_module": "@jupyter-widgets/base",
          "model_name": "LayoutModel",
          "model_module_version": "1.2.0",
          "state": {
            "_model_module": "@jupyter-widgets/base",
            "_model_module_version": "1.2.0",
            "_model_name": "LayoutModel",
            "_view_count": null,
            "_view_module": "@jupyter-widgets/base",
            "_view_module_version": "1.2.0",
            "_view_name": "LayoutView",
            "align_content": null,
            "align_items": null,
            "align_self": null,
            "border": null,
            "bottom": null,
            "display": null,
            "flex": null,
            "flex_flow": null,
            "grid_area": null,
            "grid_auto_columns": null,
            "grid_auto_flow": null,
            "grid_auto_rows": null,
            "grid_column": null,
            "grid_gap": null,
            "grid_row": null,
            "grid_template_areas": null,
            "grid_template_columns": null,
            "grid_template_rows": null,
            "height": null,
            "justify_content": null,
            "justify_items": null,
            "left": null,
            "margin": null,
            "max_height": null,
            "max_width": null,
            "min_height": null,
            "min_width": null,
            "object_fit": null,
            "object_position": null,
            "order": null,
            "overflow": null,
            "overflow_x": null,
            "overflow_y": null,
            "padding": null,
            "right": null,
            "top": null,
            "visibility": null,
            "width": null
          }
        },
        "71391b8863f64b7c9055a0a603cb7eb8": {
          "model_module": "@jupyter-widgets/controls",
          "model_name": "DescriptionStyleModel",
          "model_module_version": "1.5.0",
          "state": {
            "_model_module": "@jupyter-widgets/controls",
            "_model_module_version": "1.5.0",
            "_model_name": "DescriptionStyleModel",
            "_view_count": null,
            "_view_module": "@jupyter-widgets/base",
            "_view_module_version": "1.2.0",
            "_view_name": "StyleView",
            "description_width": ""
          }
        }
      }
    },
    "accelerator": "GPU"
  },
  "cells": [
    {
      "cell_type": "code",
      "execution_count": null,
      "metadata": {
        "colab": {
          "base_uri": "https://localhost:8080/"
        },
        "collapsed": true,
        "id": "g5CS7HSleWnY",
        "outputId": "cccac628-3de7-4595-e8f6-e58c5a913b78"
      },
      "outputs": [
        {
          "output_type": "stream",
          "name": "stdout",
          "text": [
            "Requirement already satisfied: datasets in /usr/local/lib/python3.10/dist-packages (3.0.2)\n",
            "Requirement already satisfied: filelock in /usr/local/lib/python3.10/dist-packages (from datasets) (3.16.1)\n",
            "Requirement already satisfied: numpy>=1.17 in /usr/local/lib/python3.10/dist-packages (from datasets) (1.26.4)\n",
            "Requirement already satisfied: pyarrow>=15.0.0 in /usr/local/lib/python3.10/dist-packages (from datasets) (16.1.0)\n",
            "Requirement already satisfied: dill<0.3.9,>=0.3.0 in /usr/local/lib/python3.10/dist-packages (from datasets) (0.3.8)\n",
            "Requirement already satisfied: pandas in /usr/local/lib/python3.10/dist-packages (from datasets) (2.2.2)\n",
            "Requirement already satisfied: requests>=2.32.2 in /usr/local/lib/python3.10/dist-packages (from datasets) (2.32.3)\n",
            "Requirement already satisfied: tqdm>=4.66.3 in /usr/local/lib/python3.10/dist-packages (from datasets) (4.66.5)\n",
            "Requirement already satisfied: xxhash in /usr/local/lib/python3.10/dist-packages (from datasets) (3.5.0)\n",
            "Requirement already satisfied: multiprocess<0.70.17 in /usr/local/lib/python3.10/dist-packages (from datasets) (0.70.16)\n",
            "Requirement already satisfied: fsspec<=2024.9.0,>=2023.1.0 in /usr/local/lib/python3.10/dist-packages (from fsspec[http]<=2024.9.0,>=2023.1.0->datasets) (2024.6.1)\n",
            "Requirement already satisfied: aiohttp in /usr/local/lib/python3.10/dist-packages (from datasets) (3.10.10)\n",
            "Requirement already satisfied: huggingface-hub>=0.23.0 in /usr/local/lib/python3.10/dist-packages (from datasets) (0.24.7)\n",
            "Requirement already satisfied: packaging in /usr/local/lib/python3.10/dist-packages (from datasets) (24.1)\n",
            "Requirement already satisfied: pyyaml>=5.1 in /usr/local/lib/python3.10/dist-packages (from datasets) (6.0.2)\n",
            "Requirement already satisfied: aiohappyeyeballs>=2.3.0 in /usr/local/lib/python3.10/dist-packages (from aiohttp->datasets) (2.4.3)\n",
            "Requirement already satisfied: aiosignal>=1.1.2 in /usr/local/lib/python3.10/dist-packages (from aiohttp->datasets) (1.3.1)\n",
            "Requirement already satisfied: attrs>=17.3.0 in /usr/local/lib/python3.10/dist-packages (from aiohttp->datasets) (24.2.0)\n",
            "Requirement already satisfied: frozenlist>=1.1.1 in /usr/local/lib/python3.10/dist-packages (from aiohttp->datasets) (1.5.0)\n",
            "Requirement already satisfied: multidict<7.0,>=4.5 in /usr/local/lib/python3.10/dist-packages (from aiohttp->datasets) (6.1.0)\n",
            "Requirement already satisfied: yarl<2.0,>=1.12.0 in /usr/local/lib/python3.10/dist-packages (from aiohttp->datasets) (1.16.0)\n",
            "Requirement already satisfied: async-timeout<5.0,>=4.0 in /usr/local/lib/python3.10/dist-packages (from aiohttp->datasets) (4.0.3)\n",
            "Requirement already satisfied: typing-extensions>=3.7.4.3 in /usr/local/lib/python3.10/dist-packages (from huggingface-hub>=0.23.0->datasets) (4.12.2)\n",
            "Requirement already satisfied: charset-normalizer<4,>=2 in /usr/local/lib/python3.10/dist-packages (from requests>=2.32.2->datasets) (3.4.0)\n",
            "Requirement already satisfied: idna<4,>=2.5 in /usr/local/lib/python3.10/dist-packages (from requests>=2.32.2->datasets) (3.10)\n",
            "Requirement already satisfied: urllib3<3,>=1.21.1 in /usr/local/lib/python3.10/dist-packages (from requests>=2.32.2->datasets) (2.2.3)\n",
            "Requirement already satisfied: certifi>=2017.4.17 in /usr/local/lib/python3.10/dist-packages (from requests>=2.32.2->datasets) (2024.8.30)\n",
            "Requirement already satisfied: python-dateutil>=2.8.2 in /usr/local/lib/python3.10/dist-packages (from pandas->datasets) (2.8.2)\n",
            "Requirement already satisfied: pytz>=2020.1 in /usr/local/lib/python3.10/dist-packages (from pandas->datasets) (2024.2)\n",
            "Requirement already satisfied: tzdata>=2022.7 in /usr/local/lib/python3.10/dist-packages (from pandas->datasets) (2024.2)\n",
            "Requirement already satisfied: six>=1.5 in /usr/local/lib/python3.10/dist-packages (from python-dateutil>=2.8.2->pandas->datasets) (1.16.0)\n",
            "Requirement already satisfied: propcache>=0.2.0 in /usr/local/lib/python3.10/dist-packages (from yarl<2.0,>=1.12.0->aiohttp->datasets) (0.2.0)\n",
            "Requirement already satisfied: bpemb in /usr/local/lib/python3.10/dist-packages (0.3.6)\n",
            "Requirement already satisfied: gensim in /usr/local/lib/python3.10/dist-packages (from bpemb) (4.3.3)\n",
            "Requirement already satisfied: numpy in /usr/local/lib/python3.10/dist-packages (from bpemb) (1.26.4)\n",
            "Requirement already satisfied: requests in /usr/local/lib/python3.10/dist-packages (from bpemb) (2.32.3)\n",
            "Requirement already satisfied: sentencepiece in /usr/local/lib/python3.10/dist-packages (from bpemb) (0.2.0)\n",
            "Requirement already satisfied: tqdm in /usr/local/lib/python3.10/dist-packages (from bpemb) (4.66.5)\n",
            "Requirement already satisfied: scipy<1.14.0,>=1.7.0 in /usr/local/lib/python3.10/dist-packages (from gensim->bpemb) (1.13.1)\n",
            "Requirement already satisfied: smart-open>=1.8.1 in /usr/local/lib/python3.10/dist-packages (from gensim->bpemb) (7.0.5)\n",
            "Requirement already satisfied: charset-normalizer<4,>=2 in /usr/local/lib/python3.10/dist-packages (from requests->bpemb) (3.4.0)\n",
            "Requirement already satisfied: idna<4,>=2.5 in /usr/local/lib/python3.10/dist-packages (from requests->bpemb) (3.10)\n",
            "Requirement already satisfied: urllib3<3,>=1.21.1 in /usr/local/lib/python3.10/dist-packages (from requests->bpemb) (2.2.3)\n",
            "Requirement already satisfied: certifi>=2017.4.17 in /usr/local/lib/python3.10/dist-packages (from requests->bpemb) (2024.8.30)\n",
            "Requirement already satisfied: wrapt in /usr/local/lib/python3.10/dist-packages (from smart-open>=1.8.1->gensim->bpemb) (1.16.0)\n",
            "Requirement already satisfied: stop_words in /usr/local/lib/python3.10/dist-packages (2018.7.23)\n"
          ]
        }
      ],
      "source": [
        "#installing\n",
        "!pip install datasets\n",
        "!pip install bpemb\n",
        "!pip install stop_words"
      ]
    },
    {
      "cell_type": "code",
      "source": [
        "#imports\n",
        "\n",
        "import pandas as pd\n",
        "import numpy as np\n",
        "import datasets\n",
        "from datasets import load_dataset\n",
        "\n",
        "import nltk\n",
        "import random\n",
        "from tqdm.notebook import tqdm\n",
        "from tqdm import tqdm\n",
        "tqdm.pandas()\n",
        "import stop_words\n",
        "\n",
        "from nltk.corpus import stopwords\n",
        "from nltk.tokenize import word_tokenize\n",
        "import torch\n",
        "from torch.utils.data import Dataset, DataLoader\n",
        "\n",
        "from bpemb import BPEmb\n",
        "\n",
        "import re\n",
        "from transformers import MarianMTModel, MarianTokenizer\n",
        "import tensorflow as tf\n",
        "\n",
        "import torch\n",
        "import torch.nn as nn\n",
        "import torch.nn.functional as F\n",
        "from torch.nn import LayerNorm\n",
        "from torch.optim import Adam\n",
        "from typing import List, Tuple\n"
      ],
      "metadata": {
        "id": "6Ra-TSbMedoM"
      },
      "execution_count": null,
      "outputs": []
    },
    {
      "cell_type": "code",
      "source": [
        "#Putting the model to the device\n",
        "device = torch.device(\"cuda\" if torch.cuda.is_available() else \"cpu\")\n",
        "print(f\"Using device: {device}\")"
      ],
      "metadata": {
        "colab": {
          "base_uri": "https://localhost:8080/"
        },
        "id": "ulEgB48f1UEs",
        "outputId": "16d5df9d-cc8f-4899-adcb-36c526277282"
      },
      "execution_count": null,
      "outputs": [
        {
          "output_type": "stream",
          "name": "stdout",
          "text": [
            "Using device: cuda\n"
          ]
        }
      ]
    },
    {
      "cell_type": "markdown",
      "source": [
        "## Loading and Splitting the Data"
      ],
      "metadata": {
        "id": "uIHLnovtxyVo"
      }
    },
    {
      "cell_type": "code",
      "source": [
        "# Importing the data set\n",
        "ds = load_dataset(\"coastalcph/tydi_xor_rc\")\n",
        "\n",
        "# Loading data into train and test\n",
        "ds_train = load_dataset(\"coastalcph/tydi_xor_rc\", split='train')\n",
        "ds_val = load_dataset(\"coastalcph/tydi_xor_rc\", split='validation')"
      ],
      "metadata": {
        "collapsed": true,
        "id": "FGFK-rpgehkW"
      },
      "execution_count": null,
      "outputs": []
    },
    {
      "cell_type": "code",
      "source": [
        "# Creating a validation set from splitting the training data\n",
        "\n",
        "train_test_split = ds_train.train_test_split(test_size=0.15)\n",
        "\n",
        "ds_train = train_test_split['train']\n",
        "validation_dataset = train_test_split['test']"
      ],
      "metadata": {
        "id": "PZgIiedsejzs"
      },
      "execution_count": null,
      "outputs": []
    },
    {
      "cell_type": "code",
      "source": [
        "#Getting the columns we need\n",
        "\n",
        "#training\n",
        "train_ru = ds_train.filter(lambda x: x['lang'] == 'ru').select_columns(['context', 'answerable', 'question', 'lang']).to_pandas()\n",
        "train_ru.reset_index(drop=True, inplace=True)\n",
        "train_fi = ds_train.filter(lambda x: x['lang'] == 'fi').select_columns(['context', 'answerable', 'question', 'lang']).to_pandas()\n",
        "train_fi.reset_index(drop=True, inplace=True)\n",
        "train_ja = ds_train.filter(lambda x: x['lang'] == 'ja').select_columns(['context', 'answerable', 'question' , 'lang']).to_pandas()\n",
        "train_ja.reset_index(drop=True, inplace=True)\n",
        "\n",
        "#test set\n",
        "test_ru = ds_val.filter(lambda x: x['lang'] == 'ru').select_columns(['context', 'answerable', 'question', 'lang']).to_pandas()\n",
        "test_ru.reset_index(drop=True, inplace=True)\n",
        "test_fi = ds_val.filter(lambda x: x['lang'] == 'fi').select_columns(['context', 'answerable', 'question', 'lang']).to_pandas()\n",
        "test_fi.reset_index(drop=True, inplace=True)\n",
        "test_ja = ds_val.filter(lambda x: x['lang'] == 'ja').select_columns(['context', 'answerable', 'question', 'lang']).to_pandas()\n",
        "test_ja.reset_index(drop=True, inplace=True)\n",
        "\n",
        "\n",
        "#validation set\n",
        "val_ru = validation_dataset.filter(lambda x: x['lang'] == 'ru').select_columns(['context', 'answerable', 'question', 'lang']).to_pandas()\n",
        "val_ru.reset_index(drop=True, inplace=True)\n",
        "val_fi = validation_dataset.filter(lambda x: x['lang'] == 'fi').select_columns(['context', 'answerable', 'question', 'lang']).to_pandas()\n",
        "val_fi.reset_index(drop=True, inplace=True)\n",
        "val_ja = validation_dataset.filter(lambda x: x['lang'] == 'ja').select_columns(['context', 'answerable', 'question', 'lang']).to_pandas()\n",
        "val_ja.reset_index(drop=True, inplace=True)\n",
        "\n",
        "#All language set - used for English\n",
        "train_data = ds_train.filter(lambda x: x['lang'] == 'ru' or x['lang'] == 'fi' or x['lang'] == 'ja').select_columns(['context', 'answerable', 'question', 'lang']).to_pandas()\n",
        "test_data = ds_val.filter(lambda x: x['lang'] == 'ru' or x['lang'] == 'fi' or x['lang'] == 'ja').select_columns(['context', 'answerable', 'question', 'lang']).to_pandas()\n",
        "train_data.reset_index(drop=True, inplace=True)\n",
        "test_data.reset_index(drop=True, inplace=True)\n",
        "val_data = validation_dataset.filter(lambda x: x['lang'] == 'ru' or x['lang'] == 'fi' or x['lang'] == 'ja').select_columns(['context', 'answerable', 'question', 'lang']).to_pandas()\n",
        "val_data.reset_index(drop=True, inplace=True)\n"
      ],
      "metadata": {
        "colab": {
          "base_uri": "https://localhost:8080/",
          "height": 273,
          "referenced_widgets": [
            "70f52135e87f4264a49663af92da23e0",
            "b875220a729b438884c6354554152f47",
            "77fa3e13e74b473596ec0b10e84a7d97",
            "b4d552d28c0b4c51be18a33501fa4efa",
            "54c70854855a48b1aec75f16dd231cc5",
            "5df5723a956f4551bc4d5c42798752fb",
            "7098cdc1a16145ed8141f2baaede8917",
            "effe904b6ee9432c87ab2eadf3c52f22",
            "86dc0eeb0b2548ab909a7858a19dcd90",
            "69e5bb73275a4e7fa5a6aee1cdd30613",
            "87974d3b6b9f4c818cf799dc88aee01a",
            "bdc9a44305ea49ed83199d60f7c33274",
            "1c57b32d2aa64c8baf0dfe9cb3ce2cb8",
            "330bd52a3c3340d09cd4c0c9b7e5d5fb",
            "6f02c0403de74f4894ffac48eae90cab",
            "4b57bd1c868345ab86877104144afe15",
            "1432a3b6e8c54ccf9de9493c960a559f",
            "6841834ecdd749028d3ce7dec357cf5a",
            "95ea43b9b6a54e61add3123da915db19",
            "663fcc499fd443d69a857cc70a70ee70",
            "946a324f0cf04fb28c93cbd7635c7538",
            "5a0aed66cd064bcba277ca351aed216e",
            "4b8c0678250a4d2c8fa697c509bc3e70",
            "033dd6b305064550a5c9ef9d2aadc029",
            "26b0fb4771e84e84a302f2a323374fdb",
            "bdddd2d53d794e36b7ff8bea4a32d6ac",
            "9eaef89c1f5346dcab0105170d0cb9ef",
            "d00bbef6ed4145648b05b0418def4add",
            "00ed4175f38742ee8657f4dbd0b0967b",
            "272e7162c95e489bb5a3cca51297b511",
            "c9543dcbc3f3427f81eb9ccb4dd21a18",
            "5d14d42461ed407880b513d3b22538d1",
            "dd967418f33540789ca236d079fdaa8a",
            "a21394b193d84979ab70dd1742fcc43b",
            "b317a1804cf74c5281de1bea44b68ec4",
            "0f19143f1ac748f98db99dba0337d21f",
            "9a2ec1d72a1349c6994c0d390d68858d",
            "50df679daf024a1798fd0b7106c2100c",
            "6b52950a65dc4fabbff81b71ba7994e4",
            "15efd8b01006478e961688a98f1a724d",
            "02c935d090eb4d9ab267d230bb590866",
            "a5d38f1fb4504a3fbc616df986390e35",
            "85495edefeb2487e8872680c1d9166f0",
            "5de8b0387d9d4dd3b33aea88c1e0cd8a",
            "faad678ebeed4efcbfce6c4ebdcbc9d1",
            "8283c48001fb4ffbae1123658661f4a1",
            "7d5156827b694587807236f26e874ba4",
            "eba9923540d74a7a836c7cc86002542f",
            "6d3664bff36f4a5aa91383eb2fc8cd63",
            "38165b9eb1b54d17ac7442f8dcc80c26",
            "242fac913708408ea9a785a0b8e65f33",
            "2f2b7cca41944073adb404acf50bb208",
            "b4041e9024a447fa85c103e27608f755",
            "76bdd46daa8b4608885c338240eb135a",
            "6dc0e34a9433429e80772fb99fd9ca5d",
            "8bba8ed6b2bf4178b02ea938023e3ef0",
            "0adc2a1780514a9287a0477b7f7f933c",
            "da8f2215df1a48f3b3e76d9832c5b790",
            "b872044533e54a4583a229dea3935c54",
            "18c1cff53a8a4ef1b3a69a80ee9096d4",
            "2cbf60fff861468d8be0cbf79e015e6e",
            "593bbbd0abc3438fb3da2bd2cef83af5",
            "1c9b4905fcc54f818a19c3bb5cde145e",
            "1aa8a3ff89b64508aedef4c9c8b79734",
            "2c20b30ab3b74a19a0cecc215948e133",
            "1a1f019daf5c42dba377b3a0255797a1",
            "880fc3c485d54025aa937af7032854f4",
            "5a59753e8a904b34916fdd395bf994f2",
            "897c31bbc4ff45deb4ad8adb2322cd01",
            "7efb931440104d29a275c718d7b2cf06",
            "bb443182668e4d8babf05f2c2037fe42",
            "31a4a76f1889426f992a1896e7b16aa4",
            "76623e9364c347948273c4e084d28530",
            "019916f6450748cf97fb99bff9ccbe1f",
            "d4e89e9e092a408e910020fa521b6488",
            "93526bd0b7a64238ac73181304a9aa73",
            "05d505e91d2a4116bc69a06e2d635cd4",
            "24b2dbb5acb5482f8f5734077c9c5484",
            "6b6c58bd57454f3cae802eb346ed812f",
            "14e443539eab428699b4c97b8e3cce7d",
            "baa7c234d7eb48a4b7c961284e6a843e",
            "60326219955b480f82f4bfa5c2483cfc",
            "7786e899155547e2b2b8959cc6dcc69f",
            "901883f6495041618c0cb6c8a006f886",
            "8c6aa4f297994bb7a7e841526dd06b0e",
            "20f5c53fd05e41b5bb9c781d9acab692",
            "2d5d681ab4fa4a48869cd4e0184b925d",
            "71391b8863f64b7c9055a0a603cb7eb8"
          ]
        },
        "collapsed": true,
        "id": "sK8luCe0elgp",
        "outputId": "79d2574e-72e3-4034-988e-3c925b86e57e"
      },
      "execution_count": null,
      "outputs": [
        {
          "output_type": "display_data",
          "data": {
            "text/plain": [
              "Filter:   0%|          | 0/13027 [00:00<?, ? examples/s]"
            ],
            "application/vnd.jupyter.widget-view+json": {
              "version_major": 2,
              "version_minor": 0,
              "model_id": "70f52135e87f4264a49663af92da23e0"
            }
          },
          "metadata": {}
        },
        {
          "output_type": "display_data",
          "data": {
            "text/plain": [
              "Filter:   0%|          | 0/13027 [00:00<?, ? examples/s]"
            ],
            "application/vnd.jupyter.widget-view+json": {
              "version_major": 2,
              "version_minor": 0,
              "model_id": "bdc9a44305ea49ed83199d60f7c33274"
            }
          },
          "metadata": {}
        },
        {
          "output_type": "display_data",
          "data": {
            "text/plain": [
              "Filter:   0%|          | 0/13027 [00:00<?, ? examples/s]"
            ],
            "application/vnd.jupyter.widget-view+json": {
              "version_major": 2,
              "version_minor": 0,
              "model_id": "4b8c0678250a4d2c8fa697c509bc3e70"
            }
          },
          "metadata": {}
        },
        {
          "output_type": "display_data",
          "data": {
            "text/plain": [
              "Filter:   0%|          | 0/2299 [00:00<?, ? examples/s]"
            ],
            "application/vnd.jupyter.widget-view+json": {
              "version_major": 2,
              "version_minor": 0,
              "model_id": "a21394b193d84979ab70dd1742fcc43b"
            }
          },
          "metadata": {}
        },
        {
          "output_type": "display_data",
          "data": {
            "text/plain": [
              "Filter:   0%|          | 0/2299 [00:00<?, ? examples/s]"
            ],
            "application/vnd.jupyter.widget-view+json": {
              "version_major": 2,
              "version_minor": 0,
              "model_id": "faad678ebeed4efcbfce6c4ebdcbc9d1"
            }
          },
          "metadata": {}
        },
        {
          "output_type": "display_data",
          "data": {
            "text/plain": [
              "Filter:   0%|          | 0/2299 [00:00<?, ? examples/s]"
            ],
            "application/vnd.jupyter.widget-view+json": {
              "version_major": 2,
              "version_minor": 0,
              "model_id": "8bba8ed6b2bf4178b02ea938023e3ef0"
            }
          },
          "metadata": {}
        },
        {
          "output_type": "display_data",
          "data": {
            "text/plain": [
              "Filter:   0%|          | 0/13027 [00:00<?, ? examples/s]"
            ],
            "application/vnd.jupyter.widget-view+json": {
              "version_major": 2,
              "version_minor": 0,
              "model_id": "880fc3c485d54025aa937af7032854f4"
            }
          },
          "metadata": {}
        },
        {
          "output_type": "display_data",
          "data": {
            "text/plain": [
              "Filter:   0%|          | 0/2299 [00:00<?, ? examples/s]"
            ],
            "application/vnd.jupyter.widget-view+json": {
              "version_major": 2,
              "version_minor": 0,
              "model_id": "24b2dbb5acb5482f8f5734077c9c5484"
            }
          },
          "metadata": {}
        }
      ]
    },
    {
      "cell_type": "markdown",
      "source": [
        "## Methods"
      ],
      "metadata": {
        "id": "mlVnnIy0x4XU"
      }
    },
    {
      "cell_type": "code",
      "source": [
        "#Adapted from lab exercise 2\n",
        "\n",
        "#Tokenizes the texts\n",
        "# texts : text data input (strings)\n",
        "# tokenizer : the tokenizer of choice\n",
        "def text_to_batch_bilstm(texts, tokenizer):\n",
        "    input_ids = []\n",
        "    seq_lens = []\n",
        "\n",
        "    for text in texts:\n",
        "        # Tokenization and encoding\n",
        "        tokenized_text = tokenizer.encode_ids(text)\n",
        "        input_ids.append(tokenized_text)\n",
        "\n",
        "        #storing the length of the tokenized texts\n",
        "        seq_lens.append(len(tokenized_text))\n",
        "\n",
        "\n",
        "    #returns input ids and sequence lengths\n",
        "    return input_ids, seq_lens\n"
      ],
      "metadata": {
        "id": "AEbQqW8a8M2T"
      },
      "execution_count": null,
      "outputs": []
    },
    {
      "cell_type": "code",
      "source": [
        "# Adapted from lab exercise 2\n",
        "# Gets the input ids, sequence lengths, and labels\n",
        "# pads the input ids and labels\n",
        "#converts them to tensors and returns the tensors\n",
        "# input_data : a tuple\n",
        "\n",
        "def collate_batch_bilstm(input_data: Tuple) -> Tuple[torch.Tensor, torch.Tensor, torch.Tensor]:\n",
        "    #Gathering the input ids, sequence lengths, and labels\n",
        "    input_ids = [i[0][0] for i in input_data]\n",
        "    seq_lens = [i[1][0] for i in input_data]\n",
        "    labels = [i[2] for i in input_data]\n",
        "\n",
        "\n",
        "    # Determining the maximum length in the batch\n",
        "    max_length = max([len(i) for i in input_ids])\n",
        "\n",
        "    # Pading input_ids and labels to max length\n",
        "    #PAD token = 10000\n",
        "    input_ids = [ids + [10000] * (max_length - len(ids)) for ids in input_ids]\n",
        "    # Ensuring labels are also lists and also pading them\n",
        "    labels = [label + [10000] * (max_length - len(label)) if isinstance(label, list) else [10000] * max_length for label in labels]\n",
        "\n",
        "\n",
        "    # Converting to tensors\n",
        "    input_ids_tensor = torch.tensor(input_ids, dtype=torch.long)\n",
        "    seq_lens_tensor = torch.tensor(seq_lens, dtype=torch.long)\n",
        "    labels_tensor = torch.tensor(labels, dtype=torch.long)\n",
        "\n",
        "    #returning input ids, sequence lengths, and labels into tensors\n",
        "    return input_ids_tensor, seq_lens_tensor, labels_tensor\n"
      ],
      "metadata": {
        "id": "RVm1HTio6EUS"
      },
      "execution_count": null,
      "outputs": []
    },
    {
      "cell_type": "markdown",
      "source": [
        "## Embeddings Dictionary"
      ],
      "metadata": {
        "id": "MXLTKTQ0v0Pt"
      }
    },
    {
      "cell_type": "code",
      "source": [
        "# Creating a dictionary to store embeddings and vocabularies\n",
        "\n",
        "#initializing the dictionary\n",
        "bpemb_dict = {\n",
        "    'ru': BPEmb(lang=\"ru\", dim=300),\n",
        "    'ja': BPEmb(lang=\"ja\", dim=300),\n",
        "    'fi': BPEmb(lang=\"fi\", dim=300),\n",
        "    'en': BPEmb(lang=\"en\", dim=300),\n",
        "}\n",
        "\n",
        "embedding_data = {}\n",
        "\n",
        "for lang, bpemb in bpemb_dict.items():\n",
        "\n",
        "    embeddings = bpemb.vectors\n",
        "\n",
        "    # Adding padding row\n",
        "    pad_embedding = np.zeros((1, embeddings.shape[1]))\n",
        "    embeddings = np.concatenate([embeddings, pad_embedding], axis=0)\n",
        "\n",
        "    # Adding PAD token to vocab\n",
        "    vocabulary = bpemb.words + ['[PAD]']\n",
        "\n",
        "    # Converting to tensors\n",
        "    embeddings_tensor = torch.tensor(embeddings, dtype=torch.float)\n",
        "\n",
        "    # Creating embedding layer\n",
        "    embedding_layer = nn.Embedding.from_pretrained(embeddings_tensor, padding_idx=len(vocabulary) - 1)\n",
        "\n",
        "    # Storing in a dictionary\n",
        "    embedding_data[lang] = {\n",
        "        'pretrained_embeddings': embedding_layer,\n",
        "        'vocabulary': vocabulary\n",
        "    }\n",
        "\n",
        "# checking the dictionary\n",
        "ru_embedding_layer = embedding_data['ru']['pretrained_embeddings']\n",
        "ru_vocabulary = embedding_data['ru']['vocabulary']\n",
        "#ru_vocabulary"
      ],
      "metadata": {
        "id": "sYKKKhbc64-j"
      },
      "execution_count": null,
      "outputs": []
    },
    {
      "cell_type": "markdown",
      "source": [
        "## LSTM Model"
      ],
      "metadata": {
        "id": "kqmdFUCEgoot"
      }
    },
    {
      "cell_type": "code",
      "source": [
        "# Initialzing the dimmension\n",
        "lstm_dim = 200\n",
        "\n",
        "class LSTMNetwork(nn.Module):\n",
        "    def __init__(\n",
        "            self,\n",
        "            embedding_dict: dict,\n",
        "            lstm_dim: lstm_dim,\n",
        "            dropout_prob: float = 0.1,\n",
        "    ):\n",
        "        super(LSTMNetwork, self).__init__()\n",
        "\n",
        "        self.embedding_dict = embedding_dict\n",
        "\n",
        "        # Sampling embeddings for dimension extraction\n",
        "        sample_embedding = list(embedding_dict.values())[0]\n",
        "        embedding_dim = sample_embedding.embedding_dim\n",
        "        vocab_size = sample_embedding.num_embeddings\n",
        "\n",
        "        # Defining the LSTM\n",
        "        self.model = nn.ModuleDict({\n",
        "            'lstm': nn.LSTM(\n",
        "                embedding_dim,\n",
        "                lstm_dim,\n",
        "                1,\n",
        "                batch_first=True,\n",
        "                dropout=dropout_prob,\n",
        "                bidirectional=False\n",
        "            ),\n",
        "\n",
        "            'output_fc': nn.Linear(lstm_dim, vocab_size)\n",
        "        })\n",
        "\n",
        "        # Adding Layer Normalization and Dropout\n",
        "        self.layer_norm = LayerNorm(lstm_dim)\n",
        "        self.dropout = nn.Dropout(p=dropout_prob)\n",
        "\n",
        "        # Initializing weights\n",
        "        self._init_weights()\n",
        "\n",
        "    def _init_weights(self):\n",
        "        for n, p in self.model['lstm'].named_parameters():\n",
        "            if 'weight' in n:\n",
        "                nn.init.xavier_normal_(p)\n",
        "            elif 'bias' in n:\n",
        "                nn.init.zeros_(p)\n",
        "        for n, p in self.model['output_fc'].named_parameters():\n",
        "            if 'weight' in n:\n",
        "                nn.init.xavier_normal_(p)\n",
        "            elif 'bias' in n:\n",
        "                nn.init.zeros_(p)\n",
        "\n",
        "    def forward(self, inputs, input_lens, lang='en', labels=None, return_perplexity=False):\n",
        "        # Getting correct lang embeddings\n",
        "        embeddings = self.embedding_dict[lang].to(inputs.device)\n",
        "        embeds = embeddings(inputs)\n",
        "\n",
        "        # Packing padded sequence\n",
        "        lstm_in = nn.utils.rnn.pack_padded_sequence(\n",
        "            embeds,\n",
        "            input_lens.cpu(),\n",
        "            batch_first=True,\n",
        "            enforce_sorted=False\n",
        "        )\n",
        "\n",
        "        # LSTM output\n",
        "        lstm_out, hidden = self.model['lstm'](lstm_in)\n",
        "        lstm_out, _ = nn.utils.rnn.pad_packed_sequence(lstm_out, batch_first=True)\n",
        "\n",
        "        # Layer Normalization and Dropout\n",
        "        lstm_out = self.layer_norm(lstm_out)\n",
        "        lstm_out = self.dropout(lstm_out)\n",
        "\n",
        "        # Layer for logits\n",
        "        logits = self.model['output_fc'](lstm_out)\n",
        "\n",
        "        # Next word prediction\n",
        "        # Shifting labels and logits\n",
        "        if labels is not None:\n",
        "            logits = logits[:, :-1, :].contiguous()\n",
        "            labels = labels[:, 1:].contiguous()\n",
        "            logits = logits.view(-1, logits.size(-1))\n",
        "            labels = labels.view(-1)\n",
        "\n",
        "            # Calculating cross-entropy loss\n",
        "            loss_fn = nn.CrossEntropyLoss(ignore_index=embeddings.padding_idx)\n",
        "            loss = loss_fn(logits, labels)\n",
        "\n",
        "            # Calculating perplexity if requested\n",
        "            if return_perplexity:\n",
        "                perplexity = torch.exp(loss)\n",
        "                return loss, logits, perplexity\n",
        "            else:\n",
        "                return loss, logits\n",
        "        else:\n",
        "            return logits\n"
      ],
      "metadata": {
        "id": "JZBgGEFbJs2L"
      },
      "execution_count": null,
      "outputs": []
    },
    {
      "cell_type": "markdown",
      "source": [
        "## Training Method"
      ],
      "metadata": {
        "id": "yzBv67GhdNNC"
      }
    },
    {
      "cell_type": "code",
      "source": [
        "# Creating the training loop\n",
        "def train(\n",
        "    model: nn.Module, #the created model\n",
        "    train_dl: DataLoader, #Training dataset\n",
        "    valid_dl: DataLoader, # Validatoin dataset\n",
        "    optimizer: torch.optim.Optimizer, #Optimizer\n",
        "    n_epochs: int, # Number of epochs for training\n",
        "    device: torch.device, # Device to train on\n",
        "):\n",
        "\n",
        "  # Keeping track of the loss\n",
        "  losses = []\n",
        "  pcounter = 0\n",
        "\n",
        "  model.to(device)\n",
        "\n",
        "  # Iterating through epochs\n",
        "  for ep in range(n_epochs):\n",
        "    print(ep)\n",
        "    loss_epoch = []\n",
        "\n",
        "    # Iterating through each batch\n",
        "    for batch in tqdm(train_dl):\n",
        "\n",
        "      # Making the model be in train mode\n",
        "      model.train()\n",
        "\n",
        "      # Zeroing out gradiants\n",
        "      optimizer.zero_grad()\n",
        "\n",
        "      # Placing the tenors on the device\n",
        "      batch = tuple(t.to(device) for t in batch)\n",
        "      input_ids = batch[0]\n",
        "      seq_lens = batch[1]\n",
        "      labels = batch[2]\n",
        "\n",
        "\n",
        "      # Passing the inputs through the model\n",
        "      # Getting the loss and logits\n",
        "      loss, logits = model(input_ids, seq_lens, labels=labels)\n",
        "      losses.append(loss.item())\n",
        "      loss_epoch.append(loss.item())\n",
        "\n",
        "      loss.backward()\n",
        "\n",
        "      # Clipping the gradients\n",
        "      torch.nn.utils.clip_grad_norm_(model.parameters(), 1.0)\n",
        "\n",
        "      # Updating the weights of the model\n",
        "      optimizer.step()\n",
        "      optimizer.zero_grad()\n",
        "\n",
        "      # Freeing memory or else it crashes\n",
        "      del input_ids, seq_lens, labels, logits, loss\n",
        "      torch.cuda.empty_cache()\n",
        "\n",
        "    # Passing to the evaluation method\n",
        "    perplexity,_,_ = evaluate(model, valid_dl)\n",
        "\n",
        "    #printing loss and perplexity\n",
        "    print(f'train loss: {sum(loss_epoch) / len(loss_epoch)}, perplexity: {perplexity}')\n",
        "\n",
        "  return model, losses"
      ],
      "metadata": {
        "id": "FDl7zZpwlNk-"
      },
      "execution_count": null,
      "outputs": []
    },
    {
      "cell_type": "markdown",
      "source": [
        "## Evalutation Method"
      ],
      "metadata": {
        "id": "tSWj5u0JdPeW"
      }
    },
    {
      "cell_type": "code",
      "source": [
        "# Method to evaluate the model\n",
        "# Model: given model\n",
        "# Valid_dl: the data loader for the evaluation dataset\n",
        "def evaluate(model: nn.Module, valid_dl: DataLoader):\n",
        "\n",
        "  #Putting model in evaluation mode\n",
        "  model.eval()\n",
        "  labels_all = []\n",
        "  logits_all = []\n",
        "  total_loss = 0\n",
        "  total_samples = 0\n",
        "\n",
        "  # Putting the model to the given device\n",
        "  model.to(device)\n",
        "\n",
        "  # Making sure no gradients are accumulated\n",
        "  with torch.no_grad():\n",
        "    for batch in tqdm(valid_dl, desc='Evaluation'):\n",
        "      batch = tuple(t.to(device) for t in batch)\n",
        "      input_ids = batch[0]\n",
        "      seq_lens = batch[1]\n",
        "      labels = batch[2]\n",
        "\n",
        "      # Putting them all to the device\n",
        "      seq_lens = seq_lens.to(device).to(torch.int64)\n",
        "      input_ids = input_ids.to(device)\n",
        "      labels = labels.to(device)\n",
        "\n",
        "      # Forward passing through model\n",
        "      loss, logits = model(input_ids, seq_lens, labels=labels)\n",
        "\n",
        "      # Accumulating total loss\n",
        "      batch_size = input_ids.size(0)\n",
        "      total_loss += loss.item() * batch_size\n",
        "      total_samples += batch_size\n",
        "\n",
        "      # Collecting all labels and logits\n",
        "      labels_all.extend(list(labels.detach().cpu().numpy()))\n",
        "      logits_all.extend(list(logits.detach().cpu().numpy()))\n",
        "\n",
        "\n",
        "    # Calculating average loss\n",
        "    avg_loss = total_loss / total_samples\n",
        "\n",
        "    # Calculating perplexity\n",
        "    perplexity = torch.exp(torch.tensor(avg_loss)).item()\n",
        "\n",
        "    # Deleting to save RAM\n",
        "    # Will crash if removed\n",
        "    del input_ids, seq_lens, labels, logits\n",
        "    torch.cuda.empty_cache()\n",
        "\n",
        "    return  perplexity, labels_all, logits_all"
      ],
      "metadata": {
        "id": "JO9ndtKblHhn"
      },
      "execution_count": null,
      "outputs": []
    },
    {
      "cell_type": "markdown",
      "source": [
        "## English"
      ],
      "metadata": {
        "id": "RlmFh8ewtKFV"
      }
    },
    {
      "cell_type": "code",
      "source": [
        "#Creating a Dataset Reader for context column\n",
        "\n",
        "# Initialize BPEmb models\n",
        "bpemb_ru = BPEmb(lang=\"ru\", dim=300)\n",
        "bpemb_ja = BPEmb(lang=\"ja\", dim=300)\n",
        "bpemb_fi = BPEmb(lang=\"fi\", dim=300)\n",
        "bpemb_en = BPEmb(lang=\"en\", dim=300)\n",
        "\n",
        "tokenizer_dict = {\n",
        "    'ru': bpemb_ru,\n",
        "    'ja': bpemb_ja,\n",
        "    'fi': bpemb_fi,\n",
        "    'en': bpemb_en\n",
        "}\n",
        "\n",
        "class NextWordPredictionDatasetReader(Dataset):\n",
        "    def __init__(self, df, tokenizer_dict, max_len):\n",
        "        \"\"\"\n",
        "        Dataset class for next word prediction.\n",
        "\n",
        "        :param df: A pandas DataFrame containing the dataset.\n",
        "        :param tokenizer: A tokenizer object that has the method `encode_ids_with_eos`.\n",
        "        \"\"\"\n",
        "        self.df = df\n",
        "        self.tokenizer_dict = tokenizer_dict\n",
        "        self.max_len = max_len\n",
        "\n",
        "    def __len__(self):\n",
        "        return len(self.df)\n",
        "\n",
        "    def __getitem__(self, idx):\n",
        "        question = self.df.loc[idx, 'question']\n",
        "        context = self.df.loc[idx, 'context']\n",
        "        lang = self.df.loc[idx, 'lang']\n",
        "\n",
        "        # Selecting the right tokenizer for language\n",
        "        tokenizer = self.tokenizer_dict.get(lang, self.tokenizer_dict['en'])\n",
        "\n",
        "        # Getting the right input text column name\n",
        "        input_text = context\n",
        "\n",
        "        # Tokenizes column and returns input ids and sequence lengths\n",
        "        input_ids, seq_lens = text_to_batch_bilstm([input_text], tokenizer)\n",
        "\n",
        "        # Splitting input text into words\n",
        "        words = input_text.split()\n",
        "\n",
        "        # Determining next word\n",
        "        if len(words) > 1:\n",
        "          next_word = words[-1]\n",
        "        else:\n",
        "          # If there is one word or no words\n",
        "          next_word = None\n",
        "\n",
        "          # Converting the next word to its token\n",
        "        if next_word:\n",
        "          # Getting a list of tokens\n",
        "          label = tokenizer.encode_ids_with_eos(next_word)\n",
        "        else:\n",
        "          # Empty list if no next word\n",
        "          label = []\n",
        "\n",
        "        return input_ids, seq_lens, label"
      ],
      "metadata": {
        "collapsed": true,
        "id": "la243Qrr5Eha"
      },
      "execution_count": null,
      "outputs": []
    },
    {
      "cell_type": "code",
      "source": [
        "lstm_dim = 200\n",
        "\n",
        "embedding_dict = {\n",
        "    'ru': embedding_data['ru']['pretrained_embeddings'],\n",
        "    'ja': embedding_data['ja']['pretrained_embeddings'],\n",
        "    'fi': embedding_data['fi']['pretrained_embeddings'],\n",
        "    'en': embedding_data['en']['pretrained_embeddings']\n",
        "}\n",
        "\n",
        "# Create the model\n",
        "model = LSTMNetwork(\n",
        "    embedding_dict=embedding_dict,\n",
        "    lstm_dim=lstm_dim\n",
        "  ).to(device)"
      ],
      "metadata": {
        "id": "7VUd6NbqhDjX",
        "colab": {
          "base_uri": "https://localhost:8080/"
        },
        "outputId": "b077ea83-85c3-42c8-b2dd-eaeaf9608eab"
      },
      "execution_count": null,
      "outputs": [
        {
          "output_type": "stream",
          "name": "stderr",
          "text": [
            "/usr/local/lib/python3.10/dist-packages/torch/nn/modules/rnn.py:123: UserWarning: dropout option adds dropout after all but last recurrent layer, so non-zero dropout expects num_layers greater than 1, but got dropout=0.1 and num_layers=1\n",
            "  warnings.warn(\n"
          ]
        }
      ]
    },
    {
      "cell_type": "code",
      "source": [
        "# Defining hyperparameters\n",
        "batch_size = 32\n",
        "lr = 0.001\n",
        "n_epochs = 8\n",
        "max_len = 256\n",
        "\n",
        "tokenizer_dict = {\n",
        "    'ru': bpemb_ru,\n",
        "    'ja': bpemb_ja,\n",
        "    'fi': bpemb_fi,\n",
        "    'en': bpemb_en\n",
        "}\n",
        "\n",
        "# Creating the dataset reader/data loader for training data\n",
        "train_dataset = NextWordPredictionDatasetReader(train_data, tokenizer_dict, max_len=max_len)\n",
        "train_dl = DataLoader(train_dataset, batch_size=batch_size,collate_fn=collate_batch_bilstm, shuffle=True, pin_memory=True, num_workers=4)#collate_fn=collate_batch_bilstm\n",
        "\n",
        "# Creating dataset reader/data loader for validation data\n",
        "valid_dataset = NextWordPredictionDatasetReader(val_data, tokenizer_dict,max_len=max_len )\n",
        "valid_dl = DataLoader(valid_dataset, batch_size=10, collate_fn=collate_batch_bilstm, pin_memory=True, num_workers=4)#, collate_fn=collate_batch_bilstm\n",
        "\n",
        "# Creating the optimizer\n",
        "optimizer = Adam(model.parameters(), lr=0.001)\n",
        "\n",
        "# Training\n",
        "model, losses = train(model, train_dl, valid_dl, optimizer, n_epochs, device)"
      ],
      "metadata": {
        "colab": {
          "base_uri": "https://localhost:8080/"
        },
        "id": "GHYR-5AwlZqW",
        "outputId": "2b447494-5a3d-452d-ae8a-31e681a91e71"
      },
      "execution_count": null,
      "outputs": [
        {
          "output_type": "stream",
          "name": "stdout",
          "text": [
            "0\n"
          ]
        },
        {
          "output_type": "stream",
          "name": "stderr",
          "text": [
            "100%|██████████| 172/172 [00:31<00:00,  5.53it/s]\n",
            "Evaluation: 100%|██████████| 93/93 [00:16<00:00,  5.79it/s]\n"
          ]
        },
        {
          "output_type": "stream",
          "name": "stdout",
          "text": [
            "train loss: 5.123205995836924, perplexity: 72.98271942138672\n",
            "1\n"
          ]
        },
        {
          "output_type": "stream",
          "name": "stderr",
          "text": [
            "100%|██████████| 172/172 [00:31<00:00,  5.45it/s]\n",
            "Evaluation: 100%|██████████| 93/93 [00:16<00:00,  5.52it/s]\n"
          ]
        },
        {
          "output_type": "stream",
          "name": "stdout",
          "text": [
            "train loss: 3.961536587670792, perplexity: 61.89029312133789\n",
            "2\n"
          ]
        },
        {
          "output_type": "stream",
          "name": "stderr",
          "text": [
            "100%|██████████| 172/172 [00:30<00:00,  5.60it/s]\n",
            "Evaluation: 100%|██████████| 93/93 [00:16<00:00,  5.54it/s]\n"
          ]
        },
        {
          "output_type": "stream",
          "name": "stdout",
          "text": [
            "train loss: 3.631278923777647, perplexity: 60.70518112182617\n",
            "3\n"
          ]
        },
        {
          "output_type": "stream",
          "name": "stderr",
          "text": [
            "100%|██████████| 172/172 [00:30<00:00,  5.62it/s]\n",
            "Evaluation: 100%|██████████| 93/93 [00:16<00:00,  5.53it/s]\n"
          ]
        },
        {
          "output_type": "stream",
          "name": "stdout",
          "text": [
            "train loss: 3.361707781636438, perplexity: 66.05472564697266\n",
            "4\n"
          ]
        },
        {
          "output_type": "stream",
          "name": "stderr",
          "text": [
            "100%|██████████| 172/172 [00:30<00:00,  5.60it/s]\n",
            "Evaluation: 100%|██████████| 93/93 [00:16<00:00,  5.52it/s]\n"
          ]
        },
        {
          "output_type": "stream",
          "name": "stdout",
          "text": [
            "train loss: 3.13270821543627, perplexity: 69.59305572509766\n",
            "5\n"
          ]
        },
        {
          "output_type": "stream",
          "name": "stderr",
          "text": [
            "100%|██████████| 172/172 [00:30<00:00,  5.61it/s]\n",
            "Evaluation: 100%|██████████| 93/93 [00:16<00:00,  5.53it/s]\n"
          ]
        },
        {
          "output_type": "stream",
          "name": "stdout",
          "text": [
            "train loss: 2.922942118589268, perplexity: 76.80091857910156\n",
            "6\n"
          ]
        },
        {
          "output_type": "stream",
          "name": "stderr",
          "text": [
            "100%|██████████| 172/172 [00:31<00:00,  5.51it/s]\n",
            "Evaluation: 100%|██████████| 93/93 [00:16<00:00,  5.54it/s]\n"
          ]
        },
        {
          "output_type": "stream",
          "name": "stdout",
          "text": [
            "train loss: 2.7498084999794186, perplexity: 84.94862365722656\n",
            "7\n"
          ]
        },
        {
          "output_type": "stream",
          "name": "stderr",
          "text": [
            "100%|██████████| 172/172 [00:30<00:00,  5.67it/s]\n",
            "Evaluation: 100%|██████████| 93/93 [00:16<00:00,  5.50it/s]\n"
          ]
        },
        {
          "output_type": "stream",
          "name": "stdout",
          "text": [
            "train loss: 2.5894528953141944, perplexity: 95.17669677734375\n"
          ]
        }
      ]
    },
    {
      "cell_type": "markdown",
      "source": [
        "## Russian"
      ],
      "metadata": {
        "id": "5Vn8SnQ7H0I0"
      }
    },
    {
      "cell_type": "code",
      "source": [
        "# New Dataset Reader for question column\n",
        "# Used for Ru, Fi, and Ja\n",
        "\n",
        "tokenizer_dict = {\n",
        "    'ru': bpemb_ru,\n",
        "    'ja': bpemb_ja,\n",
        "    'fi': bpemb_fi,\n",
        "    'en': bpemb_en\n",
        "}\n",
        "\n",
        "# Class for next word prediction\n",
        "class NextWordPredictionDatasetReader(Dataset):\n",
        "    def __init__(self, df, tokenizer_dict, max_len):\n",
        "\n",
        "        self.df = df # dataset\n",
        "        self.tokenizer_dict = tokenizer_dict # The dictionary with all the tokenizers\n",
        "        self.max_len = max_len # Max length used for padding sequences\n",
        "\n",
        "    def __len__(self):\n",
        "        return len(self.df)\n",
        "\n",
        "    def __getitem__(self, idx):\n",
        "        question = self.df.loc[idx, 'question']\n",
        "        context = self.df.loc[idx, 'context']\n",
        "        lang = self.df.loc[idx, 'lang']\n",
        "\n",
        "        # Selecting tokenizer based on language\n",
        "        # Defaults to English\n",
        "        tokenizer = self.tokenizer_dict.get(lang, self.tokenizer_dict['en'])\n",
        "\n",
        "        # Geting input IDs and sequence lengths using the tokenizer\n",
        "        input_ids, seq_lens = text_to_batch_bilstm([question], tokenizer)\n",
        "\n",
        "        # Next word prediction\n",
        "        # Splitting data\n",
        "        words = question.split()\n",
        "        next_word = words[-1] if len(words) > 1 else words[0] if words else None\n",
        "\n",
        "        # Encoding the next word to token IDs\n",
        "        if next_word:\n",
        "            label = tokenizer.encode_ids(next_word)\n",
        "        else:\n",
        "          # Using the padding ID for cases with no next word\n",
        "            label = [10000] * self.max_len\n",
        "\n",
        "        return input_ids, seq_lens, label\n"
      ],
      "metadata": {
        "id": "jxW6BAiHH4hl"
      },
      "execution_count": null,
      "outputs": []
    },
    {
      "cell_type": "code",
      "source": [
        "lstm_dim = 200\n",
        "\n",
        "embedding_dict = {\n",
        "    'ru': embedding_data['ru']['pretrained_embeddings'],\n",
        "    'ja': embedding_data['ja']['pretrained_embeddings'],\n",
        "    'fi': embedding_data['fi']['pretrained_embeddings'],\n",
        "    'en': embedding_data['en']['pretrained_embeddings']\n",
        "}\n",
        "\n",
        "# Creating the model\n",
        "model = LSTMNetwork(\n",
        "    embedding_dict=embedding_dict,\n",
        "    lstm_dim=lstm_dim\n",
        "  ).to(device)"
      ],
      "metadata": {
        "id": "T1w0gRE_IoDi",
        "colab": {
          "base_uri": "https://localhost:8080/"
        },
        "outputId": "cb032dbe-805c-4606-c199-7780fa612afb"
      },
      "execution_count": null,
      "outputs": [
        {
          "output_type": "stream",
          "name": "stderr",
          "text": [
            "/usr/local/lib/python3.10/dist-packages/torch/nn/modules/rnn.py:123: UserWarning: dropout option adds dropout after all but last recurrent layer, so non-zero dropout expects num_layers greater than 1, but got dropout=0.1 and num_layers=1\n",
            "  warnings.warn(\n"
          ]
        }
      ]
    },
    {
      "cell_type": "code",
      "source": [
        "# Defining hyperparameters\n",
        "batch_size = 32\n",
        "lr = 0.001\n",
        "n_epochs = 8\n",
        "max_len = 256\n",
        "\n",
        "tokenizer_dict = {\n",
        "    'ru': bpemb_ru,\n",
        "    'ja': bpemb_ja,\n",
        "    'fi': bpemb_fi,\n",
        "    'en': bpemb_en\n",
        "}\n",
        "\n",
        "# Creating the dataset readers for Russian training set\n",
        "train_dataset = NextWordPredictionDatasetReader(train_ru, tokenizer_dict, max_len=max_len)\n",
        "train_dl = DataLoader(train_dataset, batch_size=batch_size,collate_fn=collate_batch_bilstm, shuffle=True, pin_memory=True, num_workers=4)\n",
        "\n",
        "#Creating dataset reader for russian validation dataset\n",
        "valid_dataset = NextWordPredictionDatasetReader(val_ru, tokenizer_dict,max_len=max_len )\n",
        "valid_dl = DataLoader(valid_dataset, batch_size=batch_size, collate_fn=collate_batch_bilstm, pin_memory=True, num_workers=4)\n",
        "\n",
        "# Creating the optimizer\n",
        "optimizer = Adam(model.parameters(), lr=0.001)\n",
        "\n",
        "# Training\n",
        "model, losses = train(model, train_dl, valid_dl, optimizer, n_epochs, device)"
      ],
      "metadata": {
        "colab": {
          "base_uri": "https://localhost:8080/"
        },
        "id": "epN4RU_FIYLc",
        "outputId": "0b333ee3-8db7-45b8-e0d7-a2cac6c2807e"
      },
      "execution_count": null,
      "outputs": [
        {
          "output_type": "stream",
          "name": "stdout",
          "text": [
            "0\n"
          ]
        },
        {
          "output_type": "stream",
          "name": "stderr",
          "text": [
            "100%|██████████| 54/54 [00:00<00:00, 69.33it/s]\n",
            "Evaluation: 100%|██████████| 9/9 [00:00<00:00, 20.75it/s]\n"
          ]
        },
        {
          "output_type": "stream",
          "name": "stdout",
          "text": [
            "train loss: 8.672563773614389, perplexity: 2318.3046875\n",
            "1\n"
          ]
        },
        {
          "output_type": "stream",
          "name": "stderr",
          "text": [
            "100%|██████████| 54/54 [00:00<00:00, 71.51it/s]\n",
            "Evaluation: 100%|██████████| 9/9 [00:00<00:00, 20.33it/s]\n"
          ]
        },
        {
          "output_type": "stream",
          "name": "stdout",
          "text": [
            "train loss: 5.931706808231495, perplexity: 2070.6181640625\n",
            "2\n"
          ]
        },
        {
          "output_type": "stream",
          "name": "stderr",
          "text": [
            "100%|██████████| 54/54 [00:00<00:00, 70.01it/s]\n",
            "Evaluation: 100%|██████████| 9/9 [00:00<00:00, 20.07it/s]\n"
          ]
        },
        {
          "output_type": "stream",
          "name": "stdout",
          "text": [
            "train loss: 4.857619320904767, perplexity: 2218.459716796875\n",
            "3\n"
          ]
        },
        {
          "output_type": "stream",
          "name": "stderr",
          "text": [
            "100%|██████████| 54/54 [00:00<00:00, 67.56it/s]\n",
            "Evaluation: 100%|██████████| 9/9 [00:00<00:00, 20.29it/s]\n"
          ]
        },
        {
          "output_type": "stream",
          "name": "stdout",
          "text": [
            "train loss: 3.8952835400899253, perplexity: 2506.622802734375\n",
            "4\n"
          ]
        },
        {
          "output_type": "stream",
          "name": "stderr",
          "text": [
            "100%|██████████| 54/54 [00:00<00:00, 69.13it/s]\n",
            "Evaluation: 100%|██████████| 9/9 [00:00<00:00, 20.85it/s]\n"
          ]
        },
        {
          "output_type": "stream",
          "name": "stdout",
          "text": [
            "train loss: 3.0245583763828985, perplexity: 3105.126220703125\n",
            "5\n"
          ]
        },
        {
          "output_type": "stream",
          "name": "stderr",
          "text": [
            "100%|██████████| 54/54 [00:00<00:00, 68.32it/s]\n",
            "Evaluation: 100%|██████████| 9/9 [00:00<00:00, 20.06it/s]\n"
          ]
        },
        {
          "output_type": "stream",
          "name": "stdout",
          "text": [
            "train loss: 2.3574093690624944, perplexity: 4206.98095703125\n",
            "6\n"
          ]
        },
        {
          "output_type": "stream",
          "name": "stderr",
          "text": [
            "100%|██████████| 54/54 [00:00<00:00, 72.49it/s]\n",
            "Evaluation: 100%|██████████| 9/9 [00:00<00:00, 21.50it/s]\n"
          ]
        },
        {
          "output_type": "stream",
          "name": "stdout",
          "text": [
            "train loss: 1.9635811227339286, perplexity: 5668.56689453125\n",
            "7\n"
          ]
        },
        {
          "output_type": "stream",
          "name": "stderr",
          "text": [
            "100%|██████████| 54/54 [00:00<00:00, 69.71it/s]\n",
            "Evaluation: 100%|██████████| 9/9 [00:00<00:00, 20.45it/s]"
          ]
        },
        {
          "output_type": "stream",
          "name": "stdout",
          "text": [
            "train loss: 1.7474813306773151, perplexity: 7008.5361328125\n"
          ]
        },
        {
          "output_type": "stream",
          "name": "stderr",
          "text": [
            "\n"
          ]
        }
      ]
    },
    {
      "cell_type": "markdown",
      "source": [
        "## Finnish\n"
      ],
      "metadata": {
        "id": "8ea4bR8-Kt7F"
      }
    },
    {
      "cell_type": "code",
      "source": [
        "lstm_dim = 200\n",
        "\n",
        "embedding_dict = {\n",
        "    'ru': embedding_data['ru']['pretrained_embeddings'],\n",
        "    'ja': embedding_data['ja']['pretrained_embeddings'],\n",
        "    'fi': embedding_data['fi']['pretrained_embeddings'],\n",
        "    'en': embedding_data['en']['pretrained_embeddings']\n",
        "}\n",
        "\n",
        "# Creating the model\n",
        "model = LSTMNetwork(\n",
        "    embedding_dict=embedding_dict,\n",
        "    lstm_dim=lstm_dim\n",
        "  ).to(device)"
      ],
      "metadata": {
        "id": "HYk1gKc-KxvQ"
      },
      "execution_count": null,
      "outputs": []
    },
    {
      "cell_type": "code",
      "source": [
        "# Defining hyperparameters\n",
        "batch_size = 32\n",
        "lr = 0.001\n",
        "n_epochs = 8\n",
        "max_len = 256\n",
        "\n",
        "# Creating the dataset readers for Finnish training dataset\n",
        "train_dataset = NextWordPredictionDatasetReader(train_fi, tokenizer_dict, max_len=max_len)\n",
        "train_dl = DataLoader(train_dataset, batch_size=batch_size,collate_fn=collate_batch_bilstm, shuffle=True, pin_memory=True, num_workers=4)\n",
        "\n",
        "# Creating dataset reader for Finnish validation dataset\n",
        "valid_dataset = NextWordPredictionDatasetReader(val_fi, tokenizer_dict,max_len=max_len )\n",
        "valid_dl = DataLoader(valid_dataset, batch_size=batch_size, collate_fn=collate_batch_bilstm, pin_memory=True, num_workers=4)\n",
        "\n",
        "# Creating the optimizer\n",
        "optimizer = Adam(model.parameters(), lr=0.001)\n",
        "\n",
        "# Training\n",
        "model, losses = train(model, train_dl, valid_dl, optimizer, n_epochs, device)"
      ],
      "metadata": {
        "colab": {
          "base_uri": "https://localhost:8080/"
        },
        "id": "bocTpTUmK0a2",
        "outputId": "753193e6-aef2-472b-a04a-bad0ac8060e4"
      },
      "execution_count": null,
      "outputs": [
        {
          "output_type": "stream",
          "name": "stdout",
          "text": [
            "0\n"
          ]
        },
        {
          "output_type": "stream",
          "name": "stderr",
          "text": [
            "100%|██████████| 57/57 [00:00<00:00, 69.34it/s]\n",
            "Evaluation: 100%|██████████| 11/11 [00:00<00:00, 22.68it/s]\n"
          ]
        },
        {
          "output_type": "stream",
          "name": "stdout",
          "text": [
            "train loss: 5.480512347137719, perplexity: 83.65003967285156\n",
            "1\n"
          ]
        },
        {
          "output_type": "stream",
          "name": "stderr",
          "text": [
            "100%|██████████| 57/57 [00:00<00:00, 70.71it/s]\n",
            "Evaluation: 100%|██████████| 11/11 [00:00<00:00, 21.91it/s]\n"
          ]
        },
        {
          "output_type": "stream",
          "name": "stdout",
          "text": [
            "train loss: 3.542366567410921, perplexity: 77.82254028320312\n",
            "2\n"
          ]
        },
        {
          "output_type": "stream",
          "name": "stderr",
          "text": [
            "100%|██████████| 57/57 [00:00<00:00, 72.75it/s]\n",
            "Evaluation: 100%|██████████| 11/11 [00:00<00:00, 20.88it/s]\n"
          ]
        },
        {
          "output_type": "stream",
          "name": "stdout",
          "text": [
            "train loss: 3.080421205152545, perplexity: 79.84915924072266\n",
            "3\n"
          ]
        },
        {
          "output_type": "stream",
          "name": "stderr",
          "text": [
            "100%|██████████| 57/57 [00:00<00:00, 72.92it/s]\n",
            "Evaluation: 100%|██████████| 11/11 [00:00<00:00, 21.64it/s]\n"
          ]
        },
        {
          "output_type": "stream",
          "name": "stdout",
          "text": [
            "train loss: 2.7823761220563923, perplexity: 88.70001220703125\n",
            "4\n"
          ]
        },
        {
          "output_type": "stream",
          "name": "stderr",
          "text": [
            "100%|██████████| 57/57 [00:00<00:00, 72.01it/s]\n",
            "Evaluation: 100%|██████████| 11/11 [00:00<00:00, 21.90it/s]\n"
          ]
        },
        {
          "output_type": "stream",
          "name": "stdout",
          "text": [
            "train loss: 2.545999702654387, perplexity: 99.10476684570312\n",
            "5\n"
          ]
        },
        {
          "output_type": "stream",
          "name": "stderr",
          "text": [
            "100%|██████████| 57/57 [00:00<00:00, 72.38it/s]\n",
            "Evaluation: 100%|██████████| 11/11 [00:00<00:00, 21.57it/s]\n"
          ]
        },
        {
          "output_type": "stream",
          "name": "stdout",
          "text": [
            "train loss: 2.3600230447032997, perplexity: 114.94468688964844\n",
            "6\n"
          ]
        },
        {
          "output_type": "stream",
          "name": "stderr",
          "text": [
            "100%|██████████| 57/57 [00:00<00:00, 70.18it/s]\n",
            "Evaluation: 100%|██████████| 11/11 [00:00<00:00, 21.96it/s]\n"
          ]
        },
        {
          "output_type": "stream",
          "name": "stdout",
          "text": [
            "train loss: 2.221009039042289, perplexity: 124.29462432861328\n",
            "7\n"
          ]
        },
        {
          "output_type": "stream",
          "name": "stderr",
          "text": [
            "100%|██████████| 57/57 [00:00<00:00, 69.02it/s]\n",
            "Evaluation: 100%|██████████| 11/11 [00:00<00:00, 21.27it/s]"
          ]
        },
        {
          "output_type": "stream",
          "name": "stdout",
          "text": [
            "train loss: 2.1191319101735164, perplexity: 133.4221954345703\n"
          ]
        },
        {
          "output_type": "stream",
          "name": "stderr",
          "text": [
            "\n"
          ]
        }
      ]
    },
    {
      "cell_type": "markdown",
      "source": [
        "## Japanese"
      ],
      "metadata": {
        "id": "vpI2_4H5L74_"
      }
    },
    {
      "cell_type": "code",
      "source": [
        "#increasing the dimension to work better for Jappanese\n",
        "lstm_dim = 200\n",
        "\n",
        "# initializing the embedding dictionary\n",
        "embedding_dict = {\n",
        "    'ru': embedding_data['ru']['pretrained_embeddings'],\n",
        "    'ja': embedding_data['ja']['pretrained_embeddings'],\n",
        "    'fi': embedding_data['fi']['pretrained_embeddings'],\n",
        "    'en': embedding_data['en']['pretrained_embeddings']\n",
        "}\n",
        "\n",
        "# Creating the model\n",
        "model = LSTMNetwork(\n",
        "    embedding_dict=embedding_dict,\n",
        "    lstm_dim=lstm_dim\n",
        "  ).to(device)"
      ],
      "metadata": {
        "id": "6cecxQCYMCfr"
      },
      "execution_count": null,
      "outputs": []
    },
    {
      "cell_type": "code",
      "source": [
        "# Defining the hyperparameters\n",
        "batch_size = 32\n",
        "lr = 0.001\n",
        "n_epochs = 8\n",
        "max_len = 128\n",
        "\n",
        "\n",
        "# Creating the dataset readers for Japanese training data\n",
        "train_dataset = NextWordPredictionDatasetReader(train_ja, tokenizer_dict, max_len=max_len)\n",
        "train_dl = DataLoader(train_dataset, batch_size=batch_size, collate_fn=collate_batch_bilstm, shuffle=True, pin_memory=True, num_workers=4)\n",
        "\n",
        "# Creating dataset reader for Japanese validation data\n",
        "valid_dataset = NextWordPredictionDatasetReader(val_ja, tokenizer_dict,max_len=max_len )\n",
        "valid_dl = DataLoader(valid_dataset, batch_size=batch_size, collate_fn=collate_batch_bilstm, pin_memory=True, num_workers=4)\n",
        "\n",
        "# Creating the optimizer\n",
        "optimizer = Adam(model.parameters(), lr=0.001)\n",
        "\n",
        "# Training\n",
        "model, losses = train(model, train_dl, valid_dl, optimizer, n_epochs, device)"
      ],
      "metadata": {
        "colab": {
          "base_uri": "https://localhost:8080/"
        },
        "id": "MARyGu9cME5d",
        "outputId": "b5b372bd-c217-43f6-8ab1-c5a6e61dbc3c"
      },
      "execution_count": null,
      "outputs": [
        {
          "output_type": "stream",
          "name": "stdout",
          "text": [
            "0\n"
          ]
        },
        {
          "output_type": "stream",
          "name": "stderr",
          "text": [
            "100%|██████████| 62/62 [00:00<00:00, 64.46it/s]\n",
            "Evaluation: 100%|██████████| 11/11 [00:00<00:00, 19.58it/s]\n"
          ]
        },
        {
          "output_type": "stream",
          "name": "stdout",
          "text": [
            "train loss: 7.2031062187687045, perplexity: 507.9928283691406\n",
            "1\n"
          ]
        },
        {
          "output_type": "stream",
          "name": "stderr",
          "text": [
            "100%|██████████| 62/62 [00:00<00:00, 65.46it/s]\n",
            "Evaluation: 100%|██████████| 11/11 [00:00<00:00, 21.04it/s]\n"
          ]
        },
        {
          "output_type": "stream",
          "name": "stdout",
          "text": [
            "train loss: 5.549883557904151, perplexity: 325.0409851074219\n",
            "2\n"
          ]
        },
        {
          "output_type": "stream",
          "name": "stderr",
          "text": [
            "100%|██████████| 62/62 [00:01<00:00, 61.16it/s]\n",
            "Evaluation: 100%|██████████| 11/11 [00:00<00:00, 19.12it/s]\n"
          ]
        },
        {
          "output_type": "stream",
          "name": "stdout",
          "text": [
            "train loss: 4.819800507637762, perplexity: 263.4609069824219\n",
            "3\n"
          ]
        },
        {
          "output_type": "stream",
          "name": "stderr",
          "text": [
            "100%|██████████| 62/62 [00:00<00:00, 64.27it/s]\n",
            "Evaluation: 100%|██████████| 11/11 [00:00<00:00, 19.78it/s]\n"
          ]
        },
        {
          "output_type": "stream",
          "name": "stdout",
          "text": [
            "train loss: 4.230223371136573, perplexity: 237.94570922851562\n",
            "4\n"
          ]
        },
        {
          "output_type": "stream",
          "name": "stderr",
          "text": [
            "100%|██████████| 62/62 [00:01<00:00, 61.96it/s]\n",
            "Evaluation: 100%|██████████| 11/11 [00:00<00:00, 19.96it/s]\n"
          ]
        },
        {
          "output_type": "stream",
          "name": "stdout",
          "text": [
            "train loss: 3.7159758114045665, perplexity: 226.9105224609375\n",
            "5\n"
          ]
        },
        {
          "output_type": "stream",
          "name": "stderr",
          "text": [
            "100%|██████████| 62/62 [00:01<00:00, 59.41it/s]\n",
            "Evaluation: 100%|██████████| 11/11 [00:00<00:00, 19.10it/s]\n"
          ]
        },
        {
          "output_type": "stream",
          "name": "stdout",
          "text": [
            "train loss: 3.2574638820463613, perplexity: 226.73358154296875\n",
            "6\n"
          ]
        },
        {
          "output_type": "stream",
          "name": "stderr",
          "text": [
            "100%|██████████| 62/62 [00:00<00:00, 63.25it/s]\n",
            "Evaluation: 100%|██████████| 11/11 [00:00<00:00, 19.51it/s]\n"
          ]
        },
        {
          "output_type": "stream",
          "name": "stdout",
          "text": [
            "train loss: 2.8571630600960023, perplexity: 230.9124298095703\n",
            "7\n"
          ]
        },
        {
          "output_type": "stream",
          "name": "stderr",
          "text": [
            "100%|██████████| 62/62 [00:00<00:00, 63.52it/s]\n",
            "Evaluation: 100%|██████████| 11/11 [00:00<00:00, 19.30it/s]"
          ]
        },
        {
          "output_type": "stream",
          "name": "stdout",
          "text": [
            "train loss: 2.509425013296066, perplexity: 242.28753662109375\n"
          ]
        },
        {
          "output_type": "stream",
          "name": "stderr",
          "text": [
            "\n"
          ]
        }
      ]
    }
  ]
}